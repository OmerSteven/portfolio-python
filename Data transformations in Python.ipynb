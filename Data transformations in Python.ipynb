{
 "cells": [
  {
   "cell_type": "code",
   "execution_count": 134,
   "id": "aa23ef10",
   "metadata": {},
   "outputs": [],
   "source": [
    "import pyodbc\n",
    "import pandas as pd\n",
    "import numpy as np\n",
    "\n",
    "import plotly.express as px\n",
    "\n",
    "from datetime import datetime"
   ]
  },
  {
   "cell_type": "code",
   "execution_count": 19,
   "id": "a2555077",
   "metadata": {},
   "outputs": [],
   "source": [
    "pd.set_option('display.max_rows', 500)\n",
    "pd.set_option('display.max_columns', 500)\n",
    "pd.set_option('display.width', 1000)\n",
    "pd.options.display.float_format = '{:.2f}'.format"
   ]
  },
  {
   "cell_type": "markdown",
   "id": "58cafd5f",
   "metadata": {},
   "source": [
    "# Load data"
   ]
  },
  {
   "cell_type": "code",
   "execution_count": 20,
   "id": "e47c3f2e",
   "metadata": {},
   "outputs": [],
   "source": [
    "def get_df(query):\n",
    "    server = 'OmerSteven\\SQLEXPRESS'\n",
    "    database = 'AdventureWorksDW2019'\n",
    "    conn = pyodbc.connect('Driver={SQL Server};'\n",
    "                      f'Server={server};'\n",
    "                      f'Database={database};'\n",
    "                      'Trusted_Connection=yes;')\n",
    "    df = pd.read_sql(query,conn)\n",
    "    \n",
    "    # Close the connection\n",
    "    conn.close()\n",
    "    return df"
   ]
  },
  {
   "cell_type": "code",
   "execution_count": 23,
   "id": "208885a7",
   "metadata": {},
   "outputs": [
    {
     "name": "stderr",
     "output_type": "stream",
     "text": [
      "C:\\ProgramData\\Anaconda3\\lib\\site-packages\\pandas\\io\\sql.py:762: UserWarning: pandas only support SQLAlchemy connectable(engine/connection) ordatabase string URI or sqlite3 DBAPI2 connectionother DBAPI2 objects are not tested, please consider using SQLAlchemy\n",
      "  warnings.warn(\n"
     ]
    }
   ],
   "source": [
    "query = \"\"\"\n",
    "            SELECT top 1000* \n",
    "            FROM AdventureWorksDW2019.dbo.DimCustomer\n",
    "            \"\"\"\n",
    "\n",
    "# Output of query to df\n",
    "analysis_tabel = get_df(query)"
   ]
  },
  {
   "cell_type": "markdown",
   "id": "2f006949",
   "metadata": {},
   "source": [
    "# Analysis"
   ]
  },
  {
   "cell_type": "markdown",
   "id": "ac9395b9",
   "metadata": {},
   "source": [
    "In this analysis we will have a look at the customer data of the AdventureWorks dataset. We are particularly interested in the yearly income distribution and how this relates to gender and age."
   ]
  },
  {
   "cell_type": "markdown",
   "id": "d50697eb",
   "metadata": {},
   "source": [
    "## Descriptive statistics"
   ]
  },
  {
   "cell_type": "code",
   "execution_count": 166,
   "id": "e497a1fd",
   "metadata": {},
   "outputs": [
    {
     "data": {
      "text/html": [
       "<div>\n",
       "<style scoped>\n",
       "    .dataframe tbody tr th:only-of-type {\n",
       "        vertical-align: middle;\n",
       "    }\n",
       "\n",
       "    .dataframe tbody tr th {\n",
       "        vertical-align: top;\n",
       "    }\n",
       "\n",
       "    .dataframe thead th {\n",
       "        text-align: right;\n",
       "    }\n",
       "</style>\n",
       "<table border=\"1\" class=\"dataframe\">\n",
       "  <thead>\n",
       "    <tr style=\"text-align: right;\">\n",
       "      <th></th>\n",
       "      <th>Gender_</th>\n",
       "      <th>CustomerKey_count</th>\n",
       "      <th>YearlyIncome_mean</th>\n",
       "      <th>YearlyIncome_mode</th>\n",
       "      <th>YearlyIncome_max</th>\n",
       "      <th>YearlyIncome_min</th>\n",
       "    </tr>\n",
       "  </thead>\n",
       "  <tbody>\n",
       "    <tr>\n",
       "      <th>0</th>\n",
       "      <td>F</td>\n",
       "      <td>518</td>\n",
       "      <td>59555.98</td>\n",
       "      <td>60000.00</td>\n",
       "      <td>170000.00</td>\n",
       "      <td>10000.00</td>\n",
       "    </tr>\n",
       "    <tr>\n",
       "      <th>1</th>\n",
       "      <td>M</td>\n",
       "      <td>482</td>\n",
       "      <td>59232.37</td>\n",
       "      <td>60000.00</td>\n",
       "      <td>170000.00</td>\n",
       "      <td>10000.00</td>\n",
       "    </tr>\n",
       "  </tbody>\n",
       "</table>\n",
       "</div>"
      ],
      "text/plain": [
       "  Gender_  CustomerKey_count  YearlyIncome_mean  YearlyIncome_mode  YearlyIncome_max  YearlyIncome_min\n",
       "0       F                518           59555.98           60000.00         170000.00          10000.00\n",
       "1       M                482           59232.37           60000.00         170000.00          10000.00"
      ]
     },
     "execution_count": 166,
     "metadata": {},
     "output_type": "execute_result"
    }
   ],
   "source": [
    "descriptives_table = analysis_tabel\\\n",
    "    .groupby(['Gender'])\\\n",
    "    .agg({\n",
    "        'CustomerKey' : 'count',\n",
    "        'YearlyIncome' : ['mean', lambda x: x.mode(), 'max', 'min']\n",
    "    })\\\n",
    "    .reset_index()\n",
    "\n",
    "# list comprehension for columns\n",
    "descriptives_table.columns = ['_'.join(col).replace('<lambda_0>', 'mode') for col in descriptives_table.columns]\n",
    "\n",
    "descriptives_table"
   ]
  },
  {
   "cell_type": "code",
   "execution_count": 178,
   "id": "e72455bd",
   "metadata": {},
   "outputs": [
    {
     "data": {
      "application/vnd.plotly.v1+json": {
       "config": {
        "plotlyServerURL": "https://plot.ly"
       },
       "data": [
        {
         "domain": {
          "x": [
           0,
           1
          ],
          "y": [
           0,
           1
          ]
         },
         "hovertemplate": "yearly income=%{label}<br>count=%{value}<extra></extra>",
         "labels": [
          60000,
          70000,
          40000,
          30000,
          80000,
          20000,
          10000,
          90000,
          50000,
          110000,
          130000,
          100000,
          120000,
          170000,
          150000,
          160000
         ],
         "legendgroup": "",
         "name": "",
         "showlegend": true,
         "type": "pie",
         "values": [
          213,
          158,
          156,
          90,
          88,
          63,
          51,
          50,
          39,
          24,
          21,
          18,
          12,
          8,
          5,
          4
         ]
        }
       ],
       "layout": {
        "legend": {
         "tracegroupgap": 0
        },
        "piecolorway": [
         "rgb(103,0,31)",
         "rgb(178,24,43)",
         "rgb(214,96,77)",
         "rgb(244,165,130)",
         "rgb(253,219,199)",
         "rgb(247,247,247)",
         "rgb(209,229,240)",
         "rgb(146,197,222)",
         "rgb(67,147,195)",
         "rgb(33,102,172)",
         "rgb(5,48,97)"
        ],
        "template": {
         "data": {
          "bar": [
           {
            "error_x": {
             "color": "#2a3f5f"
            },
            "error_y": {
             "color": "#2a3f5f"
            },
            "marker": {
             "line": {
              "color": "#E5ECF6",
              "width": 0.5
             },
             "pattern": {
              "fillmode": "overlay",
              "size": 10,
              "solidity": 0.2
             }
            },
            "type": "bar"
           }
          ],
          "barpolar": [
           {
            "marker": {
             "line": {
              "color": "#E5ECF6",
              "width": 0.5
             },
             "pattern": {
              "fillmode": "overlay",
              "size": 10,
              "solidity": 0.2
             }
            },
            "type": "barpolar"
           }
          ],
          "carpet": [
           {
            "aaxis": {
             "endlinecolor": "#2a3f5f",
             "gridcolor": "white",
             "linecolor": "white",
             "minorgridcolor": "white",
             "startlinecolor": "#2a3f5f"
            },
            "baxis": {
             "endlinecolor": "#2a3f5f",
             "gridcolor": "white",
             "linecolor": "white",
             "minorgridcolor": "white",
             "startlinecolor": "#2a3f5f"
            },
            "type": "carpet"
           }
          ],
          "choropleth": [
           {
            "colorbar": {
             "outlinewidth": 0,
             "ticks": ""
            },
            "type": "choropleth"
           }
          ],
          "contour": [
           {
            "colorbar": {
             "outlinewidth": 0,
             "ticks": ""
            },
            "colorscale": [
             [
              0,
              "#0d0887"
             ],
             [
              0.1111111111111111,
              "#46039f"
             ],
             [
              0.2222222222222222,
              "#7201a8"
             ],
             [
              0.3333333333333333,
              "#9c179e"
             ],
             [
              0.4444444444444444,
              "#bd3786"
             ],
             [
              0.5555555555555556,
              "#d8576b"
             ],
             [
              0.6666666666666666,
              "#ed7953"
             ],
             [
              0.7777777777777778,
              "#fb9f3a"
             ],
             [
              0.8888888888888888,
              "#fdca26"
             ],
             [
              1,
              "#f0f921"
             ]
            ],
            "type": "contour"
           }
          ],
          "contourcarpet": [
           {
            "colorbar": {
             "outlinewidth": 0,
             "ticks": ""
            },
            "type": "contourcarpet"
           }
          ],
          "heatmap": [
           {
            "colorbar": {
             "outlinewidth": 0,
             "ticks": ""
            },
            "colorscale": [
             [
              0,
              "#0d0887"
             ],
             [
              0.1111111111111111,
              "#46039f"
             ],
             [
              0.2222222222222222,
              "#7201a8"
             ],
             [
              0.3333333333333333,
              "#9c179e"
             ],
             [
              0.4444444444444444,
              "#bd3786"
             ],
             [
              0.5555555555555556,
              "#d8576b"
             ],
             [
              0.6666666666666666,
              "#ed7953"
             ],
             [
              0.7777777777777778,
              "#fb9f3a"
             ],
             [
              0.8888888888888888,
              "#fdca26"
             ],
             [
              1,
              "#f0f921"
             ]
            ],
            "type": "heatmap"
           }
          ],
          "heatmapgl": [
           {
            "colorbar": {
             "outlinewidth": 0,
             "ticks": ""
            },
            "colorscale": [
             [
              0,
              "#0d0887"
             ],
             [
              0.1111111111111111,
              "#46039f"
             ],
             [
              0.2222222222222222,
              "#7201a8"
             ],
             [
              0.3333333333333333,
              "#9c179e"
             ],
             [
              0.4444444444444444,
              "#bd3786"
             ],
             [
              0.5555555555555556,
              "#d8576b"
             ],
             [
              0.6666666666666666,
              "#ed7953"
             ],
             [
              0.7777777777777778,
              "#fb9f3a"
             ],
             [
              0.8888888888888888,
              "#fdca26"
             ],
             [
              1,
              "#f0f921"
             ]
            ],
            "type": "heatmapgl"
           }
          ],
          "histogram": [
           {
            "marker": {
             "pattern": {
              "fillmode": "overlay",
              "size": 10,
              "solidity": 0.2
             }
            },
            "type": "histogram"
           }
          ],
          "histogram2d": [
           {
            "colorbar": {
             "outlinewidth": 0,
             "ticks": ""
            },
            "colorscale": [
             [
              0,
              "#0d0887"
             ],
             [
              0.1111111111111111,
              "#46039f"
             ],
             [
              0.2222222222222222,
              "#7201a8"
             ],
             [
              0.3333333333333333,
              "#9c179e"
             ],
             [
              0.4444444444444444,
              "#bd3786"
             ],
             [
              0.5555555555555556,
              "#d8576b"
             ],
             [
              0.6666666666666666,
              "#ed7953"
             ],
             [
              0.7777777777777778,
              "#fb9f3a"
             ],
             [
              0.8888888888888888,
              "#fdca26"
             ],
             [
              1,
              "#f0f921"
             ]
            ],
            "type": "histogram2d"
           }
          ],
          "histogram2dcontour": [
           {
            "colorbar": {
             "outlinewidth": 0,
             "ticks": ""
            },
            "colorscale": [
             [
              0,
              "#0d0887"
             ],
             [
              0.1111111111111111,
              "#46039f"
             ],
             [
              0.2222222222222222,
              "#7201a8"
             ],
             [
              0.3333333333333333,
              "#9c179e"
             ],
             [
              0.4444444444444444,
              "#bd3786"
             ],
             [
              0.5555555555555556,
              "#d8576b"
             ],
             [
              0.6666666666666666,
              "#ed7953"
             ],
             [
              0.7777777777777778,
              "#fb9f3a"
             ],
             [
              0.8888888888888888,
              "#fdca26"
             ],
             [
              1,
              "#f0f921"
             ]
            ],
            "type": "histogram2dcontour"
           }
          ],
          "mesh3d": [
           {
            "colorbar": {
             "outlinewidth": 0,
             "ticks": ""
            },
            "type": "mesh3d"
           }
          ],
          "parcoords": [
           {
            "line": {
             "colorbar": {
              "outlinewidth": 0,
              "ticks": ""
             }
            },
            "type": "parcoords"
           }
          ],
          "pie": [
           {
            "automargin": true,
            "type": "pie"
           }
          ],
          "scatter": [
           {
            "fillpattern": {
             "fillmode": "overlay",
             "size": 10,
             "solidity": 0.2
            },
            "type": "scatter"
           }
          ],
          "scatter3d": [
           {
            "line": {
             "colorbar": {
              "outlinewidth": 0,
              "ticks": ""
             }
            },
            "marker": {
             "colorbar": {
              "outlinewidth": 0,
              "ticks": ""
             }
            },
            "type": "scatter3d"
           }
          ],
          "scattercarpet": [
           {
            "marker": {
             "colorbar": {
              "outlinewidth": 0,
              "ticks": ""
             }
            },
            "type": "scattercarpet"
           }
          ],
          "scattergeo": [
           {
            "marker": {
             "colorbar": {
              "outlinewidth": 0,
              "ticks": ""
             }
            },
            "type": "scattergeo"
           }
          ],
          "scattergl": [
           {
            "marker": {
             "colorbar": {
              "outlinewidth": 0,
              "ticks": ""
             }
            },
            "type": "scattergl"
           }
          ],
          "scattermapbox": [
           {
            "marker": {
             "colorbar": {
              "outlinewidth": 0,
              "ticks": ""
             }
            },
            "type": "scattermapbox"
           }
          ],
          "scatterpolar": [
           {
            "marker": {
             "colorbar": {
              "outlinewidth": 0,
              "ticks": ""
             }
            },
            "type": "scatterpolar"
           }
          ],
          "scatterpolargl": [
           {
            "marker": {
             "colorbar": {
              "outlinewidth": 0,
              "ticks": ""
             }
            },
            "type": "scatterpolargl"
           }
          ],
          "scatterternary": [
           {
            "marker": {
             "colorbar": {
              "outlinewidth": 0,
              "ticks": ""
             }
            },
            "type": "scatterternary"
           }
          ],
          "surface": [
           {
            "colorbar": {
             "outlinewidth": 0,
             "ticks": ""
            },
            "colorscale": [
             [
              0,
              "#0d0887"
             ],
             [
              0.1111111111111111,
              "#46039f"
             ],
             [
              0.2222222222222222,
              "#7201a8"
             ],
             [
              0.3333333333333333,
              "#9c179e"
             ],
             [
              0.4444444444444444,
              "#bd3786"
             ],
             [
              0.5555555555555556,
              "#d8576b"
             ],
             [
              0.6666666666666666,
              "#ed7953"
             ],
             [
              0.7777777777777778,
              "#fb9f3a"
             ],
             [
              0.8888888888888888,
              "#fdca26"
             ],
             [
              1,
              "#f0f921"
             ]
            ],
            "type": "surface"
           }
          ],
          "table": [
           {
            "cells": {
             "fill": {
              "color": "#EBF0F8"
             },
             "line": {
              "color": "white"
             }
            },
            "header": {
             "fill": {
              "color": "#C8D4E3"
             },
             "line": {
              "color": "white"
             }
            },
            "type": "table"
           }
          ]
         },
         "layout": {
          "annotationdefaults": {
           "arrowcolor": "#2a3f5f",
           "arrowhead": 0,
           "arrowwidth": 1
          },
          "autotypenumbers": "strict",
          "coloraxis": {
           "colorbar": {
            "outlinewidth": 0,
            "ticks": ""
           }
          },
          "colorscale": {
           "diverging": [
            [
             0,
             "#8e0152"
            ],
            [
             0.1,
             "#c51b7d"
            ],
            [
             0.2,
             "#de77ae"
            ],
            [
             0.3,
             "#f1b6da"
            ],
            [
             0.4,
             "#fde0ef"
            ],
            [
             0.5,
             "#f7f7f7"
            ],
            [
             0.6,
             "#e6f5d0"
            ],
            [
             0.7,
             "#b8e186"
            ],
            [
             0.8,
             "#7fbc41"
            ],
            [
             0.9,
             "#4d9221"
            ],
            [
             1,
             "#276419"
            ]
           ],
           "sequential": [
            [
             0,
             "#0d0887"
            ],
            [
             0.1111111111111111,
             "#46039f"
            ],
            [
             0.2222222222222222,
             "#7201a8"
            ],
            [
             0.3333333333333333,
             "#9c179e"
            ],
            [
             0.4444444444444444,
             "#bd3786"
            ],
            [
             0.5555555555555556,
             "#d8576b"
            ],
            [
             0.6666666666666666,
             "#ed7953"
            ],
            [
             0.7777777777777778,
             "#fb9f3a"
            ],
            [
             0.8888888888888888,
             "#fdca26"
            ],
            [
             1,
             "#f0f921"
            ]
           ],
           "sequentialminus": [
            [
             0,
             "#0d0887"
            ],
            [
             0.1111111111111111,
             "#46039f"
            ],
            [
             0.2222222222222222,
             "#7201a8"
            ],
            [
             0.3333333333333333,
             "#9c179e"
            ],
            [
             0.4444444444444444,
             "#bd3786"
            ],
            [
             0.5555555555555556,
             "#d8576b"
            ],
            [
             0.6666666666666666,
             "#ed7953"
            ],
            [
             0.7777777777777778,
             "#fb9f3a"
            ],
            [
             0.8888888888888888,
             "#fdca26"
            ],
            [
             1,
             "#f0f921"
            ]
           ]
          },
          "colorway": [
           "#636efa",
           "#EF553B",
           "#00cc96",
           "#ab63fa",
           "#FFA15A",
           "#19d3f3",
           "#FF6692",
           "#B6E880",
           "#FF97FF",
           "#FECB52"
          ],
          "font": {
           "color": "#2a3f5f"
          },
          "geo": {
           "bgcolor": "white",
           "lakecolor": "white",
           "landcolor": "#E5ECF6",
           "showlakes": true,
           "showland": true,
           "subunitcolor": "white"
          },
          "hoverlabel": {
           "align": "left"
          },
          "hovermode": "closest",
          "mapbox": {
           "style": "light"
          },
          "paper_bgcolor": "white",
          "plot_bgcolor": "#E5ECF6",
          "polar": {
           "angularaxis": {
            "gridcolor": "white",
            "linecolor": "white",
            "ticks": ""
           },
           "bgcolor": "#E5ECF6",
           "radialaxis": {
            "gridcolor": "white",
            "linecolor": "white",
            "ticks": ""
           }
          },
          "scene": {
           "xaxis": {
            "backgroundcolor": "#E5ECF6",
            "gridcolor": "white",
            "gridwidth": 2,
            "linecolor": "white",
            "showbackground": true,
            "ticks": "",
            "zerolinecolor": "white"
           },
           "yaxis": {
            "backgroundcolor": "#E5ECF6",
            "gridcolor": "white",
            "gridwidth": 2,
            "linecolor": "white",
            "showbackground": true,
            "ticks": "",
            "zerolinecolor": "white"
           },
           "zaxis": {
            "backgroundcolor": "#E5ECF6",
            "gridcolor": "white",
            "gridwidth": 2,
            "linecolor": "white",
            "showbackground": true,
            "ticks": "",
            "zerolinecolor": "white"
           }
          },
          "shapedefaults": {
           "line": {
            "color": "#2a3f5f"
           }
          },
          "ternary": {
           "aaxis": {
            "gridcolor": "white",
            "linecolor": "white",
            "ticks": ""
           },
           "baxis": {
            "gridcolor": "white",
            "linecolor": "white",
            "ticks": ""
           },
           "bgcolor": "#E5ECF6",
           "caxis": {
            "gridcolor": "white",
            "linecolor": "white",
            "ticks": ""
           }
          },
          "title": {
           "x": 0.05
          },
          "xaxis": {
           "automargin": true,
           "gridcolor": "white",
           "linecolor": "white",
           "ticks": "",
           "title": {
            "standoff": 15
           },
           "zerolinecolor": "white",
           "zerolinewidth": 2
          },
          "yaxis": {
           "automargin": true,
           "gridcolor": "white",
           "linecolor": "white",
           "ticks": "",
           "title": {
            "standoff": 15
           },
           "zerolinecolor": "white",
           "zerolinewidth": 2
          }
         }
        },
        "title": {
         "text": "Yearly income distribution"
        }
       }
      },
      "text/html": [
       "<div>                            <div id=\"64e991da-1189-41ea-97f9-5c9644188088\" class=\"plotly-graph-div\" style=\"height:525px; width:100%;\"></div>            <script type=\"text/javascript\">                require([\"plotly\"], function(Plotly) {                    window.PLOTLYENV=window.PLOTLYENV || {};                                    if (document.getElementById(\"64e991da-1189-41ea-97f9-5c9644188088\")) {                    Plotly.newPlot(                        \"64e991da-1189-41ea-97f9-5c9644188088\",                        [{\"domain\":{\"x\":[0.0,1.0],\"y\":[0.0,1.0]},\"hovertemplate\":\"yearly income=%{label}<br>count=%{value}<extra></extra>\",\"labels\":[60000.0,70000.0,40000.0,30000.0,80000.0,20000.0,10000.0,90000.0,50000.0,110000.0,130000.0,100000.0,120000.0,170000.0,150000.0,160000.0],\"legendgroup\":\"\",\"name\":\"\",\"showlegend\":true,\"values\":[213,158,156,90,88,63,51,50,39,24,21,18,12,8,5,4],\"type\":\"pie\"}],                        {\"template\":{\"data\":{\"histogram2dcontour\":[{\"type\":\"histogram2dcontour\",\"colorbar\":{\"outlinewidth\":0,\"ticks\":\"\"},\"colorscale\":[[0.0,\"#0d0887\"],[0.1111111111111111,\"#46039f\"],[0.2222222222222222,\"#7201a8\"],[0.3333333333333333,\"#9c179e\"],[0.4444444444444444,\"#bd3786\"],[0.5555555555555556,\"#d8576b\"],[0.6666666666666666,\"#ed7953\"],[0.7777777777777778,\"#fb9f3a\"],[0.8888888888888888,\"#fdca26\"],[1.0,\"#f0f921\"]]}],\"choropleth\":[{\"type\":\"choropleth\",\"colorbar\":{\"outlinewidth\":0,\"ticks\":\"\"}}],\"histogram2d\":[{\"type\":\"histogram2d\",\"colorbar\":{\"outlinewidth\":0,\"ticks\":\"\"},\"colorscale\":[[0.0,\"#0d0887\"],[0.1111111111111111,\"#46039f\"],[0.2222222222222222,\"#7201a8\"],[0.3333333333333333,\"#9c179e\"],[0.4444444444444444,\"#bd3786\"],[0.5555555555555556,\"#d8576b\"],[0.6666666666666666,\"#ed7953\"],[0.7777777777777778,\"#fb9f3a\"],[0.8888888888888888,\"#fdca26\"],[1.0,\"#f0f921\"]]}],\"heatmap\":[{\"type\":\"heatmap\",\"colorbar\":{\"outlinewidth\":0,\"ticks\":\"\"},\"colorscale\":[[0.0,\"#0d0887\"],[0.1111111111111111,\"#46039f\"],[0.2222222222222222,\"#7201a8\"],[0.3333333333333333,\"#9c179e\"],[0.4444444444444444,\"#bd3786\"],[0.5555555555555556,\"#d8576b\"],[0.6666666666666666,\"#ed7953\"],[0.7777777777777778,\"#fb9f3a\"],[0.8888888888888888,\"#fdca26\"],[1.0,\"#f0f921\"]]}],\"heatmapgl\":[{\"type\":\"heatmapgl\",\"colorbar\":{\"outlinewidth\":0,\"ticks\":\"\"},\"colorscale\":[[0.0,\"#0d0887\"],[0.1111111111111111,\"#46039f\"],[0.2222222222222222,\"#7201a8\"],[0.3333333333333333,\"#9c179e\"],[0.4444444444444444,\"#bd3786\"],[0.5555555555555556,\"#d8576b\"],[0.6666666666666666,\"#ed7953\"],[0.7777777777777778,\"#fb9f3a\"],[0.8888888888888888,\"#fdca26\"],[1.0,\"#f0f921\"]]}],\"contourcarpet\":[{\"type\":\"contourcarpet\",\"colorbar\":{\"outlinewidth\":0,\"ticks\":\"\"}}],\"contour\":[{\"type\":\"contour\",\"colorbar\":{\"outlinewidth\":0,\"ticks\":\"\"},\"colorscale\":[[0.0,\"#0d0887\"],[0.1111111111111111,\"#46039f\"],[0.2222222222222222,\"#7201a8\"],[0.3333333333333333,\"#9c179e\"],[0.4444444444444444,\"#bd3786\"],[0.5555555555555556,\"#d8576b\"],[0.6666666666666666,\"#ed7953\"],[0.7777777777777778,\"#fb9f3a\"],[0.8888888888888888,\"#fdca26\"],[1.0,\"#f0f921\"]]}],\"surface\":[{\"type\":\"surface\",\"colorbar\":{\"outlinewidth\":0,\"ticks\":\"\"},\"colorscale\":[[0.0,\"#0d0887\"],[0.1111111111111111,\"#46039f\"],[0.2222222222222222,\"#7201a8\"],[0.3333333333333333,\"#9c179e\"],[0.4444444444444444,\"#bd3786\"],[0.5555555555555556,\"#d8576b\"],[0.6666666666666666,\"#ed7953\"],[0.7777777777777778,\"#fb9f3a\"],[0.8888888888888888,\"#fdca26\"],[1.0,\"#f0f921\"]]}],\"mesh3d\":[{\"type\":\"mesh3d\",\"colorbar\":{\"outlinewidth\":0,\"ticks\":\"\"}}],\"scatter\":[{\"fillpattern\":{\"fillmode\":\"overlay\",\"size\":10,\"solidity\":0.2},\"type\":\"scatter\"}],\"parcoords\":[{\"type\":\"parcoords\",\"line\":{\"colorbar\":{\"outlinewidth\":0,\"ticks\":\"\"}}}],\"scatterpolargl\":[{\"type\":\"scatterpolargl\",\"marker\":{\"colorbar\":{\"outlinewidth\":0,\"ticks\":\"\"}}}],\"bar\":[{\"error_x\":{\"color\":\"#2a3f5f\"},\"error_y\":{\"color\":\"#2a3f5f\"},\"marker\":{\"line\":{\"color\":\"#E5ECF6\",\"width\":0.5},\"pattern\":{\"fillmode\":\"overlay\",\"size\":10,\"solidity\":0.2}},\"type\":\"bar\"}],\"scattergeo\":[{\"type\":\"scattergeo\",\"marker\":{\"colorbar\":{\"outlinewidth\":0,\"ticks\":\"\"}}}],\"scatterpolar\":[{\"type\":\"scatterpolar\",\"marker\":{\"colorbar\":{\"outlinewidth\":0,\"ticks\":\"\"}}}],\"histogram\":[{\"marker\":{\"pattern\":{\"fillmode\":\"overlay\",\"size\":10,\"solidity\":0.2}},\"type\":\"histogram\"}],\"scattergl\":[{\"type\":\"scattergl\",\"marker\":{\"colorbar\":{\"outlinewidth\":0,\"ticks\":\"\"}}}],\"scatter3d\":[{\"type\":\"scatter3d\",\"line\":{\"colorbar\":{\"outlinewidth\":0,\"ticks\":\"\"}},\"marker\":{\"colorbar\":{\"outlinewidth\":0,\"ticks\":\"\"}}}],\"scattermapbox\":[{\"type\":\"scattermapbox\",\"marker\":{\"colorbar\":{\"outlinewidth\":0,\"ticks\":\"\"}}}],\"scatterternary\":[{\"type\":\"scatterternary\",\"marker\":{\"colorbar\":{\"outlinewidth\":0,\"ticks\":\"\"}}}],\"scattercarpet\":[{\"type\":\"scattercarpet\",\"marker\":{\"colorbar\":{\"outlinewidth\":0,\"ticks\":\"\"}}}],\"carpet\":[{\"aaxis\":{\"endlinecolor\":\"#2a3f5f\",\"gridcolor\":\"white\",\"linecolor\":\"white\",\"minorgridcolor\":\"white\",\"startlinecolor\":\"#2a3f5f\"},\"baxis\":{\"endlinecolor\":\"#2a3f5f\",\"gridcolor\":\"white\",\"linecolor\":\"white\",\"minorgridcolor\":\"white\",\"startlinecolor\":\"#2a3f5f\"},\"type\":\"carpet\"}],\"table\":[{\"cells\":{\"fill\":{\"color\":\"#EBF0F8\"},\"line\":{\"color\":\"white\"}},\"header\":{\"fill\":{\"color\":\"#C8D4E3\"},\"line\":{\"color\":\"white\"}},\"type\":\"table\"}],\"barpolar\":[{\"marker\":{\"line\":{\"color\":\"#E5ECF6\",\"width\":0.5},\"pattern\":{\"fillmode\":\"overlay\",\"size\":10,\"solidity\":0.2}},\"type\":\"barpolar\"}],\"pie\":[{\"automargin\":true,\"type\":\"pie\"}]},\"layout\":{\"autotypenumbers\":\"strict\",\"colorway\":[\"#636efa\",\"#EF553B\",\"#00cc96\",\"#ab63fa\",\"#FFA15A\",\"#19d3f3\",\"#FF6692\",\"#B6E880\",\"#FF97FF\",\"#FECB52\"],\"font\":{\"color\":\"#2a3f5f\"},\"hovermode\":\"closest\",\"hoverlabel\":{\"align\":\"left\"},\"paper_bgcolor\":\"white\",\"plot_bgcolor\":\"#E5ECF6\",\"polar\":{\"bgcolor\":\"#E5ECF6\",\"angularaxis\":{\"gridcolor\":\"white\",\"linecolor\":\"white\",\"ticks\":\"\"},\"radialaxis\":{\"gridcolor\":\"white\",\"linecolor\":\"white\",\"ticks\":\"\"}},\"ternary\":{\"bgcolor\":\"#E5ECF6\",\"aaxis\":{\"gridcolor\":\"white\",\"linecolor\":\"white\",\"ticks\":\"\"},\"baxis\":{\"gridcolor\":\"white\",\"linecolor\":\"white\",\"ticks\":\"\"},\"caxis\":{\"gridcolor\":\"white\",\"linecolor\":\"white\",\"ticks\":\"\"}},\"coloraxis\":{\"colorbar\":{\"outlinewidth\":0,\"ticks\":\"\"}},\"colorscale\":{\"sequential\":[[0.0,\"#0d0887\"],[0.1111111111111111,\"#46039f\"],[0.2222222222222222,\"#7201a8\"],[0.3333333333333333,\"#9c179e\"],[0.4444444444444444,\"#bd3786\"],[0.5555555555555556,\"#d8576b\"],[0.6666666666666666,\"#ed7953\"],[0.7777777777777778,\"#fb9f3a\"],[0.8888888888888888,\"#fdca26\"],[1.0,\"#f0f921\"]],\"sequentialminus\":[[0.0,\"#0d0887\"],[0.1111111111111111,\"#46039f\"],[0.2222222222222222,\"#7201a8\"],[0.3333333333333333,\"#9c179e\"],[0.4444444444444444,\"#bd3786\"],[0.5555555555555556,\"#d8576b\"],[0.6666666666666666,\"#ed7953\"],[0.7777777777777778,\"#fb9f3a\"],[0.8888888888888888,\"#fdca26\"],[1.0,\"#f0f921\"]],\"diverging\":[[0,\"#8e0152\"],[0.1,\"#c51b7d\"],[0.2,\"#de77ae\"],[0.3,\"#f1b6da\"],[0.4,\"#fde0ef\"],[0.5,\"#f7f7f7\"],[0.6,\"#e6f5d0\"],[0.7,\"#b8e186\"],[0.8,\"#7fbc41\"],[0.9,\"#4d9221\"],[1,\"#276419\"]]},\"xaxis\":{\"gridcolor\":\"white\",\"linecolor\":\"white\",\"ticks\":\"\",\"title\":{\"standoff\":15},\"zerolinecolor\":\"white\",\"automargin\":true,\"zerolinewidth\":2},\"yaxis\":{\"gridcolor\":\"white\",\"linecolor\":\"white\",\"ticks\":\"\",\"title\":{\"standoff\":15},\"zerolinecolor\":\"white\",\"automargin\":true,\"zerolinewidth\":2},\"scene\":{\"xaxis\":{\"backgroundcolor\":\"#E5ECF6\",\"gridcolor\":\"white\",\"linecolor\":\"white\",\"showbackground\":true,\"ticks\":\"\",\"zerolinecolor\":\"white\",\"gridwidth\":2},\"yaxis\":{\"backgroundcolor\":\"#E5ECF6\",\"gridcolor\":\"white\",\"linecolor\":\"white\",\"showbackground\":true,\"ticks\":\"\",\"zerolinecolor\":\"white\",\"gridwidth\":2},\"zaxis\":{\"backgroundcolor\":\"#E5ECF6\",\"gridcolor\":\"white\",\"linecolor\":\"white\",\"showbackground\":true,\"ticks\":\"\",\"zerolinecolor\":\"white\",\"gridwidth\":2}},\"shapedefaults\":{\"line\":{\"color\":\"#2a3f5f\"}},\"annotationdefaults\":{\"arrowcolor\":\"#2a3f5f\",\"arrowhead\":0,\"arrowwidth\":1},\"geo\":{\"bgcolor\":\"white\",\"landcolor\":\"#E5ECF6\",\"subunitcolor\":\"white\",\"showland\":true,\"showlakes\":true,\"lakecolor\":\"white\"},\"title\":{\"x\":0.05},\"mapbox\":{\"style\":\"light\"}}},\"legend\":{\"tracegroupgap\":0},\"title\":{\"text\":\"Yearly income distribution\"},\"piecolorway\":[\"rgb(103,0,31)\",\"rgb(178,24,43)\",\"rgb(214,96,77)\",\"rgb(244,165,130)\",\"rgb(253,219,199)\",\"rgb(247,247,247)\",\"rgb(209,229,240)\",\"rgb(146,197,222)\",\"rgb(67,147,195)\",\"rgb(33,102,172)\",\"rgb(5,48,97)\"]},                        {\"responsive\": true}                    ).then(function(){\n",
       "                            \n",
       "var gd = document.getElementById('64e991da-1189-41ea-97f9-5c9644188088');\n",
       "var x = new MutationObserver(function (mutations, observer) {{\n",
       "        var display = window.getComputedStyle(gd).display;\n",
       "        if (!display || display === 'none') {{\n",
       "            console.log([gd, 'removed!']);\n",
       "            Plotly.purge(gd);\n",
       "            observer.disconnect();\n",
       "        }}\n",
       "}});\n",
       "\n",
       "// Listen for the removal of the full notebook cells\n",
       "var notebookContainer = gd.closest('#notebook-container');\n",
       "if (notebookContainer) {{\n",
       "    x.observe(notebookContainer, {childList: true});\n",
       "}}\n",
       "\n",
       "// Listen for the clearing of the current output cell\n",
       "var outputEl = gd.closest('.output');\n",
       "if (outputEl) {{\n",
       "    x.observe(outputEl, {childList: true});\n",
       "}}\n",
       "\n",
       "                        })                };                });            </script>        </div>"
      ]
     },
     "metadata": {},
     "output_type": "display_data"
    }
   ],
   "source": [
    "# create table for value counts per gender\n",
    "pie_chart_df = analysis_tabel.YearlyIncome\\\n",
    "                .value_counts()\\\n",
    "                .reset_index()\\\n",
    "                .rename(columns = {'index' : \"yearly income\",\n",
    "                                   'YearlyIncome' : 'count'\n",
    "                                  })\n",
    "\n",
    "# pie chart\n",
    "fig = px.pie(pie_chart_df, values='count', names='yearly income',\n",
    "             title='Yearly income distribution', color_discrete_sequence=px.colors.sequential.RdBu\n",
    "            )\n",
    "\n",
    "fig.show()"
   ]
  },
  {
   "cell_type": "code",
   "execution_count": 177,
   "id": "a8f25dba",
   "metadata": {},
   "outputs": [
    {
     "data": {
      "text/html": [
       "<div>\n",
       "<style scoped>\n",
       "    .dataframe tbody tr th:only-of-type {\n",
       "        vertical-align: middle;\n",
       "    }\n",
       "\n",
       "    .dataframe tbody tr th {\n",
       "        vertical-align: top;\n",
       "    }\n",
       "\n",
       "    .dataframe thead tr th {\n",
       "        text-align: left;\n",
       "    }\n",
       "\n",
       "    .dataframe thead tr:last-of-type th {\n",
       "        text-align: right;\n",
       "    }\n",
       "</style>\n",
       "<table border=\"1\" class=\"dataframe\">\n",
       "  <thead>\n",
       "    <tr>\n",
       "      <th></th>\n",
       "      <th colspan=\"2\" halign=\"left\">CustomerKey</th>\n",
       "    </tr>\n",
       "    <tr>\n",
       "      <th>Gender</th>\n",
       "      <th>F</th>\n",
       "      <th>M</th>\n",
       "    </tr>\n",
       "    <tr>\n",
       "      <th>YearlyIncome</th>\n",
       "      <th></th>\n",
       "      <th></th>\n",
       "    </tr>\n",
       "  </thead>\n",
       "  <tbody>\n",
       "    <tr>\n",
       "      <th>10000.00</th>\n",
       "      <td>27</td>\n",
       "      <td>24</td>\n",
       "    </tr>\n",
       "    <tr>\n",
       "      <th>20000.00</th>\n",
       "      <td>28</td>\n",
       "      <td>35</td>\n",
       "    </tr>\n",
       "    <tr>\n",
       "      <th>30000.00</th>\n",
       "      <td>44</td>\n",
       "      <td>46</td>\n",
       "    </tr>\n",
       "    <tr>\n",
       "      <th>40000.00</th>\n",
       "      <td>86</td>\n",
       "      <td>70</td>\n",
       "    </tr>\n",
       "    <tr>\n",
       "      <th>50000.00</th>\n",
       "      <td>21</td>\n",
       "      <td>18</td>\n",
       "    </tr>\n",
       "    <tr>\n",
       "      <th>60000.00</th>\n",
       "      <td>106</td>\n",
       "      <td>107</td>\n",
       "    </tr>\n",
       "    <tr>\n",
       "      <th>70000.00</th>\n",
       "      <td>91</td>\n",
       "      <td>67</td>\n",
       "    </tr>\n",
       "    <tr>\n",
       "      <th>80000.00</th>\n",
       "      <td>46</td>\n",
       "      <td>42</td>\n",
       "    </tr>\n",
       "    <tr>\n",
       "      <th>90000.00</th>\n",
       "      <td>19</td>\n",
       "      <td>31</td>\n",
       "    </tr>\n",
       "    <tr>\n",
       "      <th>100000.00</th>\n",
       "      <td>10</td>\n",
       "      <td>8</td>\n",
       "    </tr>\n",
       "    <tr>\n",
       "      <th>110000.00</th>\n",
       "      <td>13</td>\n",
       "      <td>11</td>\n",
       "    </tr>\n",
       "    <tr>\n",
       "      <th>120000.00</th>\n",
       "      <td>6</td>\n",
       "      <td>6</td>\n",
       "    </tr>\n",
       "    <tr>\n",
       "      <th>130000.00</th>\n",
       "      <td>14</td>\n",
       "      <td>7</td>\n",
       "    </tr>\n",
       "    <tr>\n",
       "      <th>150000.00</th>\n",
       "      <td>2</td>\n",
       "      <td>3</td>\n",
       "    </tr>\n",
       "    <tr>\n",
       "      <th>160000.00</th>\n",
       "      <td>3</td>\n",
       "      <td>1</td>\n",
       "    </tr>\n",
       "    <tr>\n",
       "      <th>170000.00</th>\n",
       "      <td>2</td>\n",
       "      <td>6</td>\n",
       "    </tr>\n",
       "  </tbody>\n",
       "</table>\n",
       "</div>"
      ],
      "text/plain": [
       "             CustomerKey     \n",
       "Gender                 F    M\n",
       "YearlyIncome                 \n",
       "10000.00              27   24\n",
       "20000.00              28   35\n",
       "30000.00              44   46\n",
       "40000.00              86   70\n",
       "50000.00              21   18\n",
       "60000.00             106  107\n",
       "70000.00              91   67\n",
       "80000.00              46   42\n",
       "90000.00              19   31\n",
       "100000.00             10    8\n",
       "110000.00             13   11\n",
       "120000.00              6    6\n",
       "130000.00             14    7\n",
       "150000.00              2    3\n",
       "160000.00              3    1\n",
       "170000.00              2    6"
      ]
     },
     "execution_count": 177,
     "metadata": {},
     "output_type": "execute_result"
    }
   ],
   "source": [
    "Distriubtion_yearly_income_gender = analysis_tabel\\\n",
    "    .groupby(['YearlyIncome','Gender'])\\\n",
    "    .agg({\n",
    "        'CustomerKey' : 'count'}\n",
    "    )\\\n",
    "    .unstack('Gender')\n",
    "\n",
    "Distriubtion_yearly_income_gender"
   ]
  },
  {
   "cell_type": "markdown",
   "id": "d0a54267",
   "metadata": {},
   "source": [
    "## Yearly income per customer gender and age"
   ]
  },
  {
   "cell_type": "code",
   "execution_count": 161,
   "id": "0767a908",
   "metadata": {},
   "outputs": [],
   "source": [
    "scatterplot_df = analysis_tabel\\\n",
    "    [['FirstName', 'BirthDate', 'Gender', 'YearlyIncome']]\\\n",
    "    .assign(\n",
    "        today = lambda df: pd.to_datetime(datetime.today(), format='%Y/%m/%d'),\n",
    "    )\n",
    "\n",
    "# Convert the date columns to datetime\n",
    "scatterplot_df['BirthDate'] = pd.to_datetime(scatterplot_df['BirthDate'])\n",
    "\n",
    "# Define a lambda function to calculate the number of years in the date delta\n",
    "Age = lambda df: divmod((df['today'] - df['BirthDate']).total_seconds(), 31536000)[0]\n",
    "\n",
    "# Apply the lambda function to create a new column\n",
    "scatterplot_df['Age'] = scatterplot_df.apply(Age, axis=1)"
   ]
  },
  {
   "cell_type": "code",
   "execution_count": 163,
   "id": "83ba7f0e",
   "metadata": {},
   "outputs": [
    {
     "data": {
      "application/vnd.plotly.v1+json": {
       "config": {
        "plotlyServerURL": "https://plot.ly"
       },
       "data": [
        {
         "hovertemplate": "<b>%{hovertext}</b><br><br>Gender=M<br>Age=%{x}<br>YearlyIncome=%{y}<extra></extra>",
         "hovertext": [
          "Jon",
          "Eugene",
          "Ruben",
          "Julio",
          "Marco",
          "Shannon",
          "Curtis",
          "Ian",
          "Wyatt",
          "Clarence",
          "Luke",
          "Jordan",
          "Ethan",
          "Seth",
          "Russell",
          "Alejandro",
          "Harold",
          "Jessie",
          "Jimmy",
          "Jaime",
          "Marc",
          "Jesse",
          "Nathan",
          "Adam",
          "Leonard",
          "Jeremy",
          "Alan",
          "Daniel",
          "Gilbert",
          "Carl",
          "Marc",
          "Jon",
          "Todd",
          "Noah",
          "Chase",
          "Caleb",
          "Willie",
          "Levi",
          "Blake",
          "Donald",
          "Damien",
          "Lucas",
          "Ryan",
          "Hunter",
          "Trevor",
          "Dalton",
          "Cedric",
          "Chad",
          "Andrés",
          "Edwin",
          "Adam",
          "Edgar",
          "Jessie",
          "Ruben",
          "Curtis",
          "Micheal",
          "Alvin",
          "Clinton",
          "Alvin",
          "Evan",
          "Orlando",
          "Byron",
          "Philip",
          "Ross",
          "Shaun",
          "Larry",
          "Marcus",
          "Javier",
          "Eduardo",
          "Jonathan",
          "Edward",
          "Ernest",
          "Ross",
          "Theodore",
          "Russell",
          "James",
          "Hunter",
          "Jason",
          "Maurice",
          "Chase",
          "Gabriel",
          "Devin",
          "David",
          "Bryce",
          "Jonathan",
          "Nicholas",
          "Luis",
          "Mason",
          "Jose",
          "Nathan",
          "Devin",
          "Lawrence",
          "Carson",
          "James",
          "Ian",
          "Alfredo",
          "Jason",
          "Luis",
          "Blake",
          "Edward",
          "Charles",
          "Charles",
          "Nathan",
          "Marshall",
          "Adrian",
          "Dennis",
          "Todd",
          "Angel",
          "Jeremy",
          "Clarence",
          "Larry",
          "Ricky",
          "Tristan",
          "Xavier",
          "Nicholas",
          "José",
          "Johnathan",
          "Colin",
          "Xavier",
          "Eduardo",
          "David",
          "Ryan",
          "Robert",
          "Nathan",
          "Kyle",
          "Charles",
          "Jonathan",
          "Robert",
          "Christian",
          "Arturo",
          "Jeremy",
          "Hunter",
          "Henry",
          "Seth",
          "Luke",
          "Dalton",
          "Noah",
          "Jon",
          "Orlando",
          "Fernando",
          "Cameron",
          "Spencer",
          "Sean",
          "Micah",
          "Hunter",
          "Ian",
          "Trevor",
          "Luke",
          "Terrance",
          "Jose",
          "Zachary",
          "Elijah",
          "Rafael",
          "Jaime",
          "Julian",
          "Andy",
          "Ryan",
          "Shaun",
          "Jerome",
          "Frank",
          "Dennis",
          "Randy",
          "Marshall",
          "Arthur",
          "Roy",
          "Shawn",
          "Raymond",
          "Roberto",
          "Terrence",
          "Ramon",
          "Jarrod",
          "Tyrone",
          "Damien",
          "Julian",
          "Calvin",
          "Edward",
          "Jimmy",
          "Francisco",
          "Lance",
          "David",
          "Gary",
          "Mitchell",
          "Edward",
          "Miguel",
          "Joseph",
          "Karl",
          "Willie",
          "Kurt",
          "George",
          "Ian",
          "Colin",
          "Franklin",
          "Mario",
          "Darren",
          "Maurice",
          "Devin",
          "Ian",
          "Randy",
          "Rafael",
          "Kyle",
          "Jordan",
          "Dustin",
          "Kristopher",
          "Marco",
          "Bryant",
          "Maurice",
          "Andre",
          "Alfredo",
          "Sergio",
          "Joseph",
          "Kyle",
          "Alvin",
          "Brett",
          "Ruben",
          "Stanley",
          "Ross",
          "Jon",
          "Melvin",
          "Victor",
          "Alejandro",
          "Louis",
          "Grant",
          "Arturo",
          "Edwin",
          "Jay",
          "Kenneth",
          "Melvin",
          "Cesar",
          "Tristan",
          "Billy",
          "Darryl",
          "Calvin",
          "Erick",
          "Donald",
          "Jermaine",
          "Danny",
          "Andre",
          "Terrence",
          "Jimmy",
          "Francis",
          "Gary",
          "Arturo",
          "Pedro",
          "Jared",
          "Dennis",
          "Nicholas",
          "Seth",
          "Caleb",
          "Dalton",
          "Edward",
          "Jerome",
          "Christian",
          "Lucas",
          "Austin",
          "Andrew",
          "Cameron",
          "Devin",
          "Logan",
          "Dakota",
          "Justin",
          "Alberto",
          "Aidan",
          "Alejandro",
          "Joel",
          "Reginald",
          "Raymond",
          "Shannon",
          "Eddie",
          "Lucas",
          "Ivan",
          "Frederick",
          "Jarrod",
          "Cesar",
          "Jorge",
          "Erik",
          "Troy",
          "Joel",
          "Billy",
          "Jackson",
          "Micah",
          "Clayton",
          "Melvin",
          "Devin",
          "Alberto",
          "Kevin",
          "Darrell",
          "Armando",
          "Corey",
          "Sebastian",
          "Roger",
          "Ivan",
          "Larry",
          "Geoffrey",
          "Edgar",
          "Clinton",
          "Cesar",
          "Eugene",
          "Blake",
          "Ernest",
          "Keith",
          "Dwayne",
          "Sean",
          "Brian",
          "Gabriel",
          "Ryan",
          "Zachary",
          "Dalton",
          "Isaiah",
          "Antonio",
          "Thomas",
          "Samuel",
          "Darrell",
          "Antonio",
          "James",
          "Charles",
          "Randy",
          "Kevin",
          "Ian",
          "Caleb",
          "Samuel",
          "Robert",
          "Miguel",
          "Jeremiah",
          "Ethan",
          "Seth",
          "Angel",
          "Blake",
          "Chad",
          "Devin",
          "Alan",
          "Charles",
          "Johnny",
          "Dalton",
          "Greg",
          "Devin",
          "Jose",
          "Luke",
          "Cody",
          "Ian",
          "Caleb",
          "Jonathon",
          "Logan",
          "Eduardo",
          "Jackson",
          "Chase",
          "Xavier",
          "David",
          "Evan",
          "Blake",
          "Daniel",
          "Kyle",
          "Evan",
          "Marcus",
          "Blake",
          "Julian",
          "Luke",
          "Jason",
          "Jose",
          "Micah",
          "Benjamin",
          "Logan",
          "Caleb",
          "Erick",
          "Omar",
          "Sebastian",
          "Elijah",
          "Aaron",
          "Edward",
          "Chase",
          "Seth",
          "Blake",
          "Eduardo",
          "Willie",
          "Vincent",
          "Colin",
          "Edgar",
          "Randall",
          "Ross",
          "Marc",
          "Clayton",
          "Peter",
          "Isaac",
          "Cameron",
          "Gavin",
          "Seth",
          "Carlos",
          "Jose",
          "Theodore",
          "Ian",
          "Jerry",
          "Timothy",
          "Chase",
          "Xavier",
          "Devin",
          "Brendan",
          "Jessie",
          "Aaron",
          "Richard",
          "Lucas",
          "James",
          "Juan",
          "Antonio",
          "Andrew",
          "Dalton",
          "Joe",
          "Daniel",
          "Jose",
          "Austin",
          "Christian",
          "Oscar",
          "Fernando",
          "Elijah",
          "Garrett",
          "Justin",
          "Tyler",
          "Julian",
          "Sean",
          "Justin",
          "Joshua",
          "Kyle",
          "Jason",
          "Christian",
          "Seth",
          "Jordan",
          "Blake",
          "Lucas",
          "Nathaniel",
          "Dalton",
          "Ryan",
          "Adrian",
          "Jonathan",
          "Edgar",
          "Richard",
          "Patrick",
          "Kurt",
          "Joseph",
          "Aaron",
          "Blake",
          "Julio",
          "Orlando",
          "Dustin",
          "Frank",
          "Orlando",
          "Byron",
          "Drew",
          "Isaiah",
          "Rafael",
          "Philip",
          "Joe",
          "Roy",
          "Warren",
          "Gilbert",
          "James",
          "Ian",
          "Eduardo",
          "Marcus",
          "Mathew",
          "Justin",
          "Hunter",
          "Devin",
          "Seth",
          "Kevin",
          "Tyler",
          "Adam",
          "George",
          "Dennis",
          "Dorothy",
          "Joseph",
          "Gabriel",
          "Dylan",
          "Antonio",
          "Sharon",
          "Rafael",
          "Randy",
          "Randy",
          "Jackson",
          "Christopher",
          "Alex",
          "Max",
          "Frederick",
          "Kelvin",
          "Johnny"
         ],
         "legendgroup": "M",
         "marker": {
          "color": "#636efa",
          "symbol": "circle"
         },
         "mode": "markers",
         "name": "M",
         "orientation": "v",
         "showlegend": true,
         "type": "scatter",
         "x": [
          51,
          46,
          52,
          46,
          53,
          53,
          53,
          43,
          38,
          67,
          39,
          39,
          38,
          38,
          39,
          71,
          71,
          70,
          70,
          64,
          68,
          40,
          41,
          68,
          67,
          66,
          66,
          66,
          65,
          52,
          57,
          63,
          47,
          42,
          41,
          40,
          62,
          61,
          60,
          53,
          58,
          60,
          59,
          59,
          54,
          60,
          55,
          55,
          55,
          50,
          56,
          48,
          53,
          42,
          55,
          50,
          55,
          43,
          60,
          82,
          56,
          57,
          57,
          54,
          68,
          66,
          37,
          40,
          40,
          40,
          38,
          78,
          76,
          76,
          76,
          41,
          41,
          41,
          43,
          43,
          42,
          43,
          49,
          49,
          44,
          50,
          54,
          44,
          75,
          68,
          63,
          73,
          73,
          72,
          72,
          71,
          69,
          63,
          69,
          69,
          67,
          66,
          67,
          60,
          65,
          59,
          59,
          65,
          65,
          59,
          59,
          60,
          57,
          85,
          85,
          73,
          84,
          84,
          84,
          53,
          47,
          47,
          47,
          60,
          83,
          54,
          54,
          54,
          55,
          54,
          50,
          55,
          56,
          55,
          62,
          62,
          82,
          82,
          81,
          57,
          57,
          51,
          57,
          57,
          57,
          63,
          64,
          63,
          79,
          79,
          78,
          78,
          78,
          77,
          77,
          77,
          77,
          50,
          56,
          50,
          56,
          81,
          50,
          48,
          50,
          62,
          77,
          74,
          37,
          38,
          39,
          39,
          39,
          39,
          38,
          38,
          74,
          74,
          74,
          56,
          46,
          58,
          48,
          51,
          58,
          41,
          42,
          48,
          47,
          47,
          48,
          42,
          65,
          58,
          49,
          63,
          63,
          73,
          72,
          72,
          71,
          71,
          63,
          65,
          48,
          66,
          60,
          67,
          70,
          69,
          42,
          42,
          41,
          42,
          38,
          43,
          43,
          39,
          45,
          45,
          46,
          46,
          47,
          44,
          44,
          54,
          37,
          38,
          38,
          39,
          44,
          39,
          40,
          45,
          46,
          46,
          40,
          40,
          47,
          46,
          46,
          43,
          42,
          42,
          86,
          51,
          64,
          58,
          57,
          62,
          62,
          50,
          61,
          59,
          60,
          58,
          59,
          53,
          59,
          52,
          53,
          58,
          43,
          43,
          49,
          48,
          44,
          50,
          50,
          50,
          44,
          51,
          51,
          51,
          51,
          45,
          51,
          46,
          52,
          52,
          42,
          84,
          51,
          51,
          47,
          39,
          40,
          37,
          38,
          54,
          40,
          40,
          40,
          40,
          36,
          41,
          41,
          42,
          38,
          37,
          41,
          58,
          58,
          43,
          39,
          44,
          44,
          46,
          46,
          45,
          45,
          39,
          45,
          47,
          47,
          48,
          42,
          43,
          48,
          40,
          37,
          48,
          42,
          47,
          47,
          41,
          50,
          51,
          46,
          51,
          42,
          48,
          48,
          48,
          51,
          52,
          46,
          46,
          52,
          53,
          53,
          53,
          47,
          47,
          54,
          53,
          37,
          49,
          54,
          49,
          55,
          55,
          50,
          51,
          57,
          50,
          50,
          50,
          50,
          50,
          57,
          51,
          53,
          52,
          52,
          52,
          58,
          58,
          48,
          58,
          59,
          42,
          49,
          43,
          43,
          50,
          39,
          50,
          39,
          39,
          44,
          43,
          39,
          44,
          44,
          46,
          44,
          40,
          45,
          45,
          41,
          47,
          43,
          43,
          48,
          42,
          48,
          46,
          46,
          48,
          49,
          45,
          50,
          47,
          41,
          47,
          49,
          51,
          47,
          41,
          40,
          52,
          52,
          52,
          46,
          46,
          53,
          52,
          48,
          53,
          49,
          48,
          54,
          54,
          55,
          56,
          51,
          44,
          50,
          45,
          57,
          51,
          58,
          47,
          52,
          59,
          53,
          59,
          47,
          48,
          48,
          47,
          48,
          42,
          50,
          48,
          51,
          49,
          46,
          51,
          53,
          52,
          38,
          37,
          39,
          38,
          40,
          39,
          40,
          40,
          40,
          40,
          40,
          40,
          68,
          37,
          63,
          42,
          42,
          44,
          62,
          56,
          56,
          59,
          43,
          45,
          60,
          60,
          54,
          55,
          57,
          57
         ],
         "xaxis": "x",
         "y": [
          90000,
          60000,
          60000,
          70000,
          60000,
          70000,
          60000,
          100000,
          30000,
          30000,
          40000,
          40000,
          40000,
          40000,
          60000,
          10000,
          30000,
          30000,
          30000,
          20000,
          30000,
          30000,
          60000,
          20000,
          30000,
          30000,
          30000,
          30000,
          40000,
          70000,
          80000,
          80000,
          80000,
          40000,
          40000,
          60000,
          80000,
          70000,
          80000,
          160000,
          170000,
          80000,
          70000,
          80000,
          90000,
          90000,
          70000,
          70000,
          60000,
          60000,
          60000,
          70000,
          70000,
          70000,
          60000,
          70000,
          70000,
          70000,
          80000,
          30000,
          70000,
          70000,
          70000,
          80000,
          10000,
          10000,
          30000,
          30000,
          40000,
          40000,
          40000,
          60000,
          40000,
          40000,
          40000,
          40000,
          40000,
          40000,
          40000,
          40000,
          40000,
          40000,
          80000,
          90000,
          100000,
          110000,
          70000,
          90000,
          110000,
          100000,
          170000,
          60000,
          70000,
          60000,
          60000,
          60000,
          70000,
          40000,
          60000,
          70000,
          60000,
          60000,
          70000,
          60000,
          70000,
          60000,
          70000,
          70000,
          70000,
          130000,
          110000,
          120000,
          110000,
          30000,
          90000,
          60000,
          70000,
          70000,
          120000,
          90000,
          120000,
          130000,
          130000,
          90000,
          50000,
          80000,
          90000,
          90000,
          90000,
          110000,
          120000,
          170000,
          70000,
          150000,
          60000,
          60000,
          70000,
          70000,
          70000,
          80000,
          80000,
          90000,
          110000,
          110000,
          80000,
          60000,
          70000,
          60000,
          90000,
          120000,
          90000,
          90000,
          130000,
          90000,
          90000,
          90000,
          110000,
          20000,
          10000,
          20000,
          20000,
          20000,
          30000,
          10000,
          10000,
          10000,
          10000,
          40000,
          10000,
          10000,
          10000,
          10000,
          10000,
          10000,
          20000,
          10000,
          30000,
          30000,
          40000,
          30000,
          10000,
          20000,
          20000,
          30000,
          40000,
          10000,
          10000,
          10000,
          10000,
          10000,
          30000,
          40000,
          20000,
          10000,
          20000,
          80000,
          80000,
          90000,
          90000,
          150000,
          100000,
          170000,
          110000,
          80000,
          110000,
          80000,
          170000,
          90000,
          80000,
          90000,
          80000,
          80000,
          130000,
          70000,
          80000,
          100000,
          120000,
          90000,
          90000,
          90000,
          90000,
          150000,
          170000,
          10000,
          20000,
          60000,
          20000,
          30000,
          30000,
          30000,
          40000,
          40000,
          40000,
          40000,
          20000,
          20000,
          20000,
          30000,
          40000,
          40000,
          40000,
          40000,
          40000,
          40000,
          50000,
          60000,
          30000,
          30000,
          30000,
          40000,
          40000,
          80000,
          40000,
          40000,
          40000,
          60000,
          60000,
          60000,
          60000,
          60000,
          60000,
          60000,
          20000,
          30000,
          30000,
          40000,
          10000,
          20000,
          20000,
          30000,
          30000,
          20000,
          20000,
          20000,
          20000,
          30000,
          30000,
          30000,
          20000,
          30000,
          20000,
          30000,
          40000,
          40000,
          30000,
          20000,
          20000,
          20000,
          20000,
          40000,
          30000,
          30000,
          30000,
          30000,
          20000,
          20000,
          30000,
          30000,
          20000,
          20000,
          40000,
          60000,
          60000,
          50000,
          50000,
          50000,
          60000,
          40000,
          60000,
          40000,
          60000,
          60000,
          70000,
          50000,
          40000,
          40000,
          60000,
          60000,
          60000,
          60000,
          60000,
          60000,
          60000,
          60000,
          70000,
          80000,
          70000,
          60000,
          70000,
          80000,
          60000,
          70000,
          70000,
          80000,
          40000,
          40000,
          40000,
          40000,
          80000,
          40000,
          50000,
          50000,
          50000,
          50000,
          60000,
          60000,
          60000,
          60000,
          60000,
          70000,
          70000,
          40000,
          60000,
          40000,
          60000,
          70000,
          70000,
          70000,
          70000,
          60000,
          60000,
          60000,
          60000,
          60000,
          60000,
          60000,
          70000,
          60000,
          60000,
          60000,
          70000,
          80000,
          60000,
          70000,
          70000,
          70000,
          70000,
          80000,
          80000,
          90000,
          50000,
          50000,
          50000,
          50000,
          50000,
          60000,
          40000,
          40000,
          60000,
          60000,
          50000,
          60000,
          40000,
          40000,
          40000,
          40000,
          60000,
          70000,
          70000,
          60000,
          60000,
          40000,
          40000,
          60000,
          70000,
          70000,
          70000,
          60000,
          80000,
          80000,
          80000,
          80000,
          80000,
          80000,
          60000,
          60000,
          40000,
          50000,
          50000,
          60000,
          60000,
          60000,
          60000,
          40000,
          70000,
          60000,
          40000,
          70000,
          60000,
          60000,
          60000,
          60000,
          60000,
          60000,
          80000,
          60000,
          60000,
          60000,
          90000,
          90000,
          100000,
          100000,
          60000,
          90000,
          70000,
          110000,
          80000,
          70000,
          70000,
          70000,
          60000,
          60000,
          90000,
          60000,
          40000,
          70000,
          40000,
          40000,
          30000,
          30000,
          60000,
          60000,
          100000,
          60000,
          20000,
          20000,
          80000,
          60000,
          60000,
          70000,
          80000,
          70000,
          70000,
          130000,
          60000,
          130000,
          80000,
          80000,
          70000,
          60000,
          60000,
          60000
         ],
         "yaxis": "y"
        },
        {
         "hovertemplate": "<b>%{hovertext}</b><br><br>Gender=F<br>Age=%{x}<br>YearlyIncome=%{y}<extra></extra>",
         "hovertext": [
          "Christy",
          "Elizabeth",
          "Janet",
          "Rob",
          "Jacquelyn",
          "Lauren",
          "Sydney",
          "Chloe",
          "Shannon",
          "Destiny",
          "Jill",
          "Bethany",
          "Theresa",
          "Denise",
          "Ebony",
          "Wendy",
          "Jennifer",
          "Chloe",
          "Diana",
          "Amanda",
          "Megan",
          "Christine",
          "Jaclyn",
          "Carol",
          "Heidi",
          "Ana",
          "Deanna",
          "Michele",
          "Ashlee",
          "Angela",
          "Jessica",
          "Grace",
          "Tiffany",
          "Carolyn",
          "Linda",
          "Casey",
          "Amy",
          "Felicia",
          "Leah",
          "Gina",
          "Savannah",
          "Angela",
          "Alyssa",
          "Emily",
          "Tamara",
          "Abigail",
          "Cheryl",
          "Aimee",
          "Mallory",
          "Latasha",
          "Abby",
          "Julia",
          "Cassie",
          "Candace",
          "Bianca",
          "Kari",
          "Meredith",
          "Crystal",
          "Leslie",
          "April",
          "Beth",
          "Dana",
          "Jan",
          "Samantha",
          "Julia",
          "Caroline",
          "Amanda",
          "Melissa",
          "Angela",
          "Brianna",
          "Jasmine",
          "Lauren",
          "Tanya",
          "Nicole",
          "Jasmine",
          "Karla",
          "Melinda",
          "Angela",
          "Megan",
          "Maria",
          "Hannah",
          "Brianna",
          "Emily",
          "Jocelyn",
          "Ashley",
          "Jasmine",
          "Carol",
          "Gabrielle",
          "Sarah",
          "Molly",
          "April",
          "Stephanie",
          "Jasmine",
          "Meghan",
          "Ashley",
          "Sarah",
          "Jennifer",
          "Catherine",
          "Kristi",
          "Jacqueline",
          "Megan",
          "Andrea",
          "Brooke",
          "Jacqueline",
          "Amanda",
          "Alexia",
          "Destiny",
          "Abby",
          "Danielle",
          "Maria",
          "Allison",
          "Samantha",
          "Chloe",
          "Stephanie",
          "Ana",
          "Jasmine",
          "Natalie",
          "Olivia",
          "Erica",
          "Alexandra",
          "Hailey",
          "Tiffany",
          "Madison",
          "Sydney",
          "Ashley",
          "Amber",
          "Hailey",
          "Anna",
          "Mayra",
          "Latoya",
          "Anne",
          "Lisa",
          "Robin",
          "Alexis",
          "Latasha",
          "Claudia",
          "Cindy",
          "Shannon",
          "Katelyn",
          "Jacqueline",
          "Victoria",
          "Katelyn",
          "Stephanie",
          "Jennifer",
          "Trinity",
          "Elizabeth",
          "Taylor",
          "Katelyn",
          "Danielle",
          "Lauren",
          "Jenny",
          "Nancy",
          "Amanda",
          "Megan",
          "Theresa",
          "Cindy",
          "Maria",
          "Katelyn",
          "Jenna",
          "Taylor",
          "Haley",
          "Julia",
          "Julia",
          "Victoria",
          "Erin",
          "Gabrielle",
          "Sara",
          "Mya",
          "Hailey",
          "Victoria",
          "Jessica",
          "Jade",
          "Morgan",
          "Sydney",
          "Samantha",
          "Deanna",
          "Emily",
          "Nicole",
          "Carla",
          "Melody",
          "Jessie",
          "Robin",
          "Deanna",
          "Mindy",
          "Cara",
          "Anne",
          "Carrie",
          "Deanna",
          "Cynthia",
          "Cindy",
          "Jennifer",
          "Brittney",
          "Virginia",
          "Ashlee",
          "Alicia",
          "Lacey",
          "Wendy",
          "Carly",
          "Shannon",
          "Meredith",
          "Marie",
          "Tiffany",
          "Jaclyn",
          "Megan",
          "Christine",
          "Lindsay",
          "Beth",
          "Latoya",
          "Brenda",
          "Linda",
          "Kelli",
          "Nancy",
          "Megan",
          "Bonnie",
          "Latoya",
          "Jacqueline",
          "Sydney",
          "Megan",
          "Katrina",
          "Lacey",
          "Amy",
          "Jasmine",
          "Pamela",
          "Ariana",
          "Desiree",
          "Deanna",
          "Casey",
          "Dominique",
          "Robin",
          "Taylor",
          "Jenny",
          "Janet",
          "Erika",
          "Grace",
          "Tina",
          "Kari",
          "Bethany",
          "Jennifer",
          "Erika",
          "Melinda",
          "Jaime",
          "Bianca",
          "Tasha",
          "Laura",
          "Alisha",
          "Jaclyn",
          "Latasha",
          "Grace",
          "Erika",
          "Colleen",
          "Erica",
          "Adrienne",
          "Ariana",
          "Morgan",
          "Deborah",
          "Dawn",
          "Katrina",
          "Sarah",
          "Brandy",
          "Jordan",
          "Jasmine",
          "Isabella",
          "Elizabeth",
          "Roger",
          "Natalie",
          "Alyssa",
          "Shannon",
          "Mya",
          "Katherine",
          "Jada",
          "Ariana",
          "Alyssa",
          "Ariana",
          "Katherine",
          "Jenna",
          "Joan",
          "Nina",
          "Lauren",
          "Ebony",
          "Nicole",
          "Sheena",
          "Christine",
          "Cindy",
          "Crystal",
          "Deb",
          "Sharon",
          "Sydney",
          "Alexandria",
          "Felicia",
          "Whitney",
          "Briana",
          "April",
          "Carla",
          "Alexia",
          "Kristin",
          "Meagan",
          "Karla",
          "Janet",
          "Trisha",
          "Cindy",
          "Claudia",
          "Karla",
          "Kari",
          "Candace",
          "Ebony",
          "Erika",
          "Stacey",
          "Janelle",
          "Meredith",
          "Melody",
          "Linda",
          "Heidi",
          "Melody",
          "Meredith",
          "Katrina",
          "Casey",
          "Sierra",
          "Megan",
          "Leah",
          "Angela",
          "Destiny",
          "Mariah",
          "Haley",
          "Alexandra",
          "Kimberly",
          "Morgan",
          "Angelica",
          "Chloe",
          "Morgan",
          "Naomi",
          "Gabriella",
          "Anna",
          "Patricia",
          "Sydney",
          "Ariana",
          "Tamara",
          "Katelyn",
          "Megan",
          "Miranda",
          "Alyssa",
          "Janet",
          "Jada",
          "Isabella",
          "Jacqueline",
          "Jessica",
          "Susan",
          "Morgan",
          "Kaylee",
          "Abigail",
          "Kaitlyn",
          "Victoria",
          "Caroline",
          "Kaitlyn",
          "Hailey",
          "Mackenzie",
          "Jenny",
          "Kaylee",
          "Brooke",
          "Natalie",
          "Elizabeth",
          "Hailey",
          "Zoe",
          "Shelby",
          "Alexandria",
          "Chloe",
          "Sarah",
          "Morgan",
          "Jennifer",
          "Emma",
          "Tanya",
          "Kristi",
          "Sydney",
          "Megan",
          "Jan",
          "Tamara",
          "Stephanie",
          "Allison",
          "Destiny",
          "Latoya",
          "Victoria",
          "Lauren",
          "Felicia",
          "Janet",
          "Linda",
          "Dawn",
          "Melody",
          "Jessie",
          "Candace",
          "Meagan",
          "Haley",
          "Emma",
          "Sierra",
          "Miranda",
          "Haley",
          "Sarah",
          "Jessica",
          "Barbara",
          "Sara",
          "Destiny",
          "Bailey",
          "Alexia",
          "Lauren",
          "Nicole",
          "Isabel",
          "Jennifer",
          "Madison",
          "Jan",
          "Haley",
          "Jennifer",
          "Abigail",
          "Mary",
          "Hannah",
          "Morgan",
          "Katelyn",
          "Rohinton",
          "Morgan",
          "Jill",
          "Aimee",
          "Jessie",
          "Sara",
          "Katherine",
          "Sophia",
          "Taylor",
          "Zoe",
          "Haley",
          "Christy",
          "Michele",
          "Natalie",
          "Savannah",
          "Cassidy",
          "Faith",
          "Brooke",
          "Jada",
          "Grace",
          "Isabella",
          "Nicole",
          "Katherine",
          "Olivia",
          "Jessica",
          "Elizabeth",
          "Chloe",
          "Jessica",
          "Kaitlyn",
          "Jillian",
          "Faith",
          "Madison",
          "Alexis",
          "Christine",
          "Melissa",
          "Hannah",
          "Latoya",
          "Katelyn",
          "Whitney",
          "Jamie",
          "Ann",
          "Angela",
          "Brenda",
          "Stacy",
          "Kate",
          "Kaylee",
          "Gabriella",
          "Sarah",
          "Nichole",
          "Jaclyn",
          "Rachael",
          "Rachael",
          "Rebecca",
          "Meagan",
          "Kaylee",
          "Adrienne",
          "Sarah",
          "Ashlee",
          "Nicole",
          "Isabella",
          "Virginia",
          "Jaclyn",
          "Elizabeth",
          "Jessica",
          "Dawn",
          "Rachael",
          "Brandy",
          "Jenny",
          "Tasha",
          "Julia",
          "Jordan",
          "Lacey",
          "Courtney",
          "Alexandria",
          "Courtney",
          "Elizabeth",
          "Ana",
          "Anne",
          "Alexandra",
          "Katie",
          "Latasha",
          "Kelsey",
          "Bailey",
          "Amanda",
          "Katherine",
          "Caroline",
          "Destiny",
          "Audrey",
          "Bonnie",
          "Kimberly",
          "Alexandria",
          "Alexandra",
          "Cheryl",
          "Melanie",
          "Diane",
          "Kathryn",
          "Kara",
          "Joanna",
          "Tonya",
          "Rosa",
          "Leah",
          "Veronica",
          "Kristina",
          "Donna"
         ],
         "legendgroup": "F",
         "marker": {
          "color": "#EF553B",
          "symbol": "circle"
         },
         "mode": "markers",
         "name": "F",
         "orientation": "v",
         "showlegend": true,
         "type": "scatter",
         "x": [
          49,
          43,
          46,
          47,
          53,
          44,
          49,
          38,
          73,
          39,
          71,
          65,
          70,
          70,
          70,
          69,
          38,
          39,
          69,
          39,
          40,
          67,
          67,
          37,
          66,
          37,
          65,
          64,
          63,
          42,
          43,
          43,
          56,
          56,
          62,
          62,
          61,
          59,
          60,
          38,
          51,
          51,
          46,
          60,
          59,
          60,
          50,
          44,
          56,
          57,
          52,
          52,
          41,
          52,
          47,
          54,
          55,
          55,
          55,
          56,
          81,
          61,
          41,
          41,
          42,
          37,
          37,
          36,
          37,
          38,
          39,
          39,
          73,
          40,
          37,
          78,
          75,
          41,
          41,
          41,
          42,
          42,
          43,
          44,
          45,
          45,
          49,
          49,
          50,
          63,
          74,
          73,
          73,
          67,
          72,
          73,
          73,
          73,
          71,
          72,
          71,
          71,
          70,
          65,
          70,
          64,
          69,
          69,
          69,
          69,
          69,
          62,
          67,
          68,
          61,
          67,
          67,
          61,
          62,
          67,
          66,
          66,
          61,
          60,
          66,
          66,
          65,
          64,
          59,
          53,
          58,
          48,
          59,
          54,
          60,
          61,
          56,
          57,
          84,
          84,
          52,
          46,
          52,
          47,
          53,
          53,
          53,
          53,
          53,
          60,
          83,
          48,
          48,
          48,
          55,
          45,
          51,
          50,
          50,
          63,
          81,
          56,
          52,
          63,
          58,
          64,
          64,
          52,
          63,
          59,
          64,
          74,
          80,
          79,
          49,
          54,
          55,
          56,
          45,
          75,
          60,
          60,
          56,
          57,
          80,
          72,
          76,
          75,
          38,
          40,
          38,
          38,
          37,
          39,
          39,
          39,
          39,
          68,
          57,
          52,
          57,
          51,
          51,
          58,
          46,
          46,
          46,
          48,
          48,
          48,
          47,
          43,
          65,
          65,
          65,
          44,
          63,
          63,
          72,
          72,
          71,
          62,
          58,
          57,
          63,
          64,
          65,
          66,
          67,
          67,
          67,
          69,
          70,
          41,
          41,
          43,
          43,
          43,
          43,
          43,
          44,
          44,
          44,
          45,
          45,
          42,
          44,
          37,
          42,
          39,
          44,
          45,
          40,
          46,
          46,
          46,
          41,
          43,
          42,
          86,
          51,
          50,
          51,
          58,
          46,
          57,
          63,
          46,
          63,
          62,
          45,
          61,
          61,
          50,
          61,
          54,
          60,
          60,
          54,
          58,
          49,
          49,
          44,
          43,
          43,
          50,
          91,
          85,
          50,
          44,
          51,
          50,
          44,
          50,
          51,
          46,
          52,
          51,
          52,
          51,
          48,
          52,
          47,
          53,
          47,
          42,
          54,
          39,
          39,
          40,
          40,
          40,
          37,
          41,
          42,
          42,
          44,
          44,
          44,
          44,
          44,
          45,
          45,
          40,
          44,
          39,
          44,
          47,
          46,
          47,
          47,
          43,
          40,
          40,
          46,
          40,
          46,
          46,
          43,
          47,
          46,
          39,
          44,
          49,
          51,
          46,
          51,
          48,
          48,
          43,
          46,
          47,
          48,
          47,
          47,
          48,
          49,
          43,
          53,
          48,
          54,
          55,
          54,
          54,
          55,
          50,
          57,
          52,
          56,
          57,
          52,
          58,
          53,
          58,
          58,
          59,
          58,
          59,
          38,
          47,
          41,
          47,
          47,
          49,
          42,
          49,
          50,
          51,
          45,
          44,
          44,
          44,
          45,
          46,
          46,
          45,
          41,
          40,
          45,
          42,
          48,
          47,
          48,
          37,
          47,
          46,
          46,
          46,
          40,
          44,
          49,
          41,
          41,
          45,
          51,
          45,
          45,
          51,
          51,
          42,
          42,
          47,
          48,
          46,
          46,
          47,
          53,
          93,
          53,
          52,
          53,
          42,
          54,
          43,
          49,
          55,
          55,
          50,
          55,
          56,
          56,
          50,
          38,
          44,
          44,
          56,
          56,
          52,
          58,
          58,
          52,
          59,
          58,
          53,
          42,
          47,
          47,
          49,
          37,
          36,
          50,
          50,
          51,
          51,
          50,
          51,
          52,
          43,
          53,
          48,
          37,
          38,
          39,
          39,
          60,
          70,
          39,
          39,
          68,
          66,
          66,
          65,
          66,
          36,
          38,
          65,
          42,
          37,
          44,
          44,
          44,
          44,
          40,
          60,
          60,
          58,
          38,
          44,
          43,
          43,
          42,
          52,
          58,
          59,
          60,
          60,
          55,
          59,
          49,
          55,
          39,
          55,
          50,
          45,
          45,
          57,
          51,
          57
         ],
         "xaxis": "x",
         "y": [
          70000,
          80000,
          70000,
          60000,
          70000,
          100000,
          100000,
          30000,
          20000,
          40000,
          30000,
          10000,
          20000,
          20000,
          20000,
          10000,
          60000,
          40000,
          10000,
          60000,
          70000,
          30000,
          30000,
          40000,
          40000,
          60000,
          40000,
          40000,
          80000,
          40000,
          60000,
          70000,
          80000,
          80000,
          80000,
          80000,
          70000,
          80000,
          80000,
          40000,
          120000,
          130000,
          130000,
          60000,
          70000,
          80000,
          90000,
          100000,
          60000,
          60000,
          70000,
          80000,
          70000,
          70000,
          90000,
          70000,
          60000,
          60000,
          70000,
          70000,
          40000,
          70000,
          40000,
          40000,
          40000,
          30000,
          30000,
          30000,
          30000,
          40000,
          40000,
          40000,
          30000,
          40000,
          40000,
          40000,
          60000,
          40000,
          40000,
          40000,
          40000,
          40000,
          40000,
          60000,
          70000,
          80000,
          90000,
          100000,
          110000,
          120000,
          160000,
          70000,
          70000,
          70000,
          70000,
          70000,
          60000,
          60000,
          70000,
          60000,
          60000,
          70000,
          70000,
          70000,
          70000,
          80000,
          40000,
          40000,
          60000,
          60000,
          60000,
          40000,
          40000,
          60000,
          40000,
          60000,
          60000,
          60000,
          60000,
          80000,
          70000,
          70000,
          60000,
          60000,
          60000,
          70000,
          60000,
          70000,
          130000,
          130000,
          160000,
          100000,
          150000,
          170000,
          120000,
          130000,
          130000,
          170000,
          70000,
          120000,
          100000,
          110000,
          130000,
          80000,
          90000,
          90000,
          90000,
          130000,
          150000,
          70000,
          80000,
          80000,
          90000,
          110000,
          110000,
          110000,
          130000,
          130000,
          130000,
          80000,
          50000,
          90000,
          100000,
          60000,
          70000,
          70000,
          70000,
          70000,
          70000,
          40000,
          40000,
          70000,
          80000,
          90000,
          90000,
          10000,
          20000,
          10000,
          10000,
          10000,
          10000,
          10000,
          10000,
          10000,
          30000,
          20000,
          30000,
          20000,
          10000,
          10000,
          10000,
          10000,
          20000,
          20000,
          20000,
          20000,
          20000,
          30000,
          10000,
          20000,
          30000,
          30000,
          30000,
          40000,
          10000,
          10000,
          30000,
          20000,
          30000,
          40000,
          40000,
          40000,
          10000,
          10000,
          20000,
          10000,
          80000,
          80000,
          60000,
          70000,
          110000,
          80000,
          80000,
          90000,
          110000,
          120000,
          90000,
          80000,
          100000,
          160000,
          130000,
          90000,
          90000,
          60000,
          70000,
          70000,
          70000,
          70000,
          80000,
          80000,
          90000,
          100000,
          80000,
          110000,
          110000,
          40000,
          30000,
          20000,
          40000,
          40000,
          40000,
          30000,
          10000,
          10000,
          20000,
          40000,
          40000,
          40000,
          40000,
          40000,
          60000,
          60000,
          60000,
          30000,
          20000,
          20000,
          30000,
          30000,
          40000,
          40000,
          40000,
          40000,
          40000,
          40000,
          40000,
          40000,
          40000,
          40000,
          40000,
          60000,
          20000,
          30000,
          40000,
          40000,
          40000,
          20000,
          10000,
          40000,
          30000,
          30000,
          10000,
          40000,
          40000,
          20000,
          30000,
          20000,
          20000,
          30000,
          10000,
          40000,
          30000,
          30000,
          40000,
          30000,
          40000,
          30000,
          30000,
          30000,
          30000,
          20000,
          30000,
          20000,
          10000,
          30000,
          30000,
          40000,
          50000,
          50000,
          50000,
          50000,
          50000,
          40000,
          60000,
          60000,
          60000,
          70000,
          70000,
          50000,
          50000,
          50000,
          40000,
          40000,
          60000,
          60000,
          60000,
          70000,
          70000,
          70000,
          60000,
          70000,
          70000,
          70000,
          70000,
          70000,
          60000,
          60000,
          60000,
          70000,
          70000,
          70000,
          80000,
          60000,
          40000,
          50000,
          50000,
          60000,
          60000,
          60000,
          60000,
          60000,
          60000,
          40000,
          70000,
          70000,
          70000,
          60000,
          40000,
          40000,
          60000,
          60000,
          60000,
          60000,
          60000,
          70000,
          80000,
          60000,
          60000,
          70000,
          60000,
          80000,
          80000,
          80000,
          90000,
          60000,
          110000,
          70000,
          80000,
          90000,
          90000,
          50000,
          50000,
          50000,
          40000,
          60000,
          60000,
          60000,
          60000,
          60000,
          70000,
          50000,
          40000,
          40000,
          40000,
          40000,
          60000,
          60000,
          60000,
          60000,
          70000,
          40000,
          40000,
          70000,
          70000,
          60000,
          60000,
          70000,
          70000,
          70000,
          70000,
          60000,
          70000,
          70000,
          80000,
          40000,
          80000,
          50000,
          50000,
          30000,
          50000,
          50000,
          50000,
          50000,
          60000,
          60000,
          60000,
          70000,
          70000,
          40000,
          60000,
          60000,
          60000,
          70000,
          70000,
          70000,
          60000,
          60000,
          60000,
          60000,
          60000,
          70000,
          80000,
          60000,
          70000,
          70000,
          100000,
          80000,
          80000,
          60000,
          110000,
          110000,
          80000,
          80000,
          80000,
          80000,
          80000,
          60000,
          60000,
          70000,
          60000,
          60000,
          60000,
          40000,
          40000,
          60000,
          30000,
          20000,
          70000,
          30000,
          20000,
          30000,
          30000,
          30000,
          30000,
          70000,
          70000,
          40000,
          40000,
          40000,
          60000,
          70000,
          70000,
          70000,
          60000,
          70000,
          80000,
          130000,
          80000,
          80000,
          60000,
          60000,
          60000,
          120000,
          130000,
          60000,
          60000,
          60000,
          70000,
          80000,
          90000,
          70000,
          70000,
          70000,
          60000,
          60000,
          110000,
          60000,
          60000,
          60000
         ],
         "yaxis": "y"
        }
       ],
       "layout": {
        "legend": {
         "title": {
          "text": "Gender"
         },
         "tracegroupgap": 0
        },
        "margin": {
         "t": 60
        },
        "template": {
         "data": {
          "bar": [
           {
            "error_x": {
             "color": "#2a3f5f"
            },
            "error_y": {
             "color": "#2a3f5f"
            },
            "marker": {
             "line": {
              "color": "#E5ECF6",
              "width": 0.5
             },
             "pattern": {
              "fillmode": "overlay",
              "size": 10,
              "solidity": 0.2
             }
            },
            "type": "bar"
           }
          ],
          "barpolar": [
           {
            "marker": {
             "line": {
              "color": "#E5ECF6",
              "width": 0.5
             },
             "pattern": {
              "fillmode": "overlay",
              "size": 10,
              "solidity": 0.2
             }
            },
            "type": "barpolar"
           }
          ],
          "carpet": [
           {
            "aaxis": {
             "endlinecolor": "#2a3f5f",
             "gridcolor": "white",
             "linecolor": "white",
             "minorgridcolor": "white",
             "startlinecolor": "#2a3f5f"
            },
            "baxis": {
             "endlinecolor": "#2a3f5f",
             "gridcolor": "white",
             "linecolor": "white",
             "minorgridcolor": "white",
             "startlinecolor": "#2a3f5f"
            },
            "type": "carpet"
           }
          ],
          "choropleth": [
           {
            "colorbar": {
             "outlinewidth": 0,
             "ticks": ""
            },
            "type": "choropleth"
           }
          ],
          "contour": [
           {
            "colorbar": {
             "outlinewidth": 0,
             "ticks": ""
            },
            "colorscale": [
             [
              0,
              "#0d0887"
             ],
             [
              0.1111111111111111,
              "#46039f"
             ],
             [
              0.2222222222222222,
              "#7201a8"
             ],
             [
              0.3333333333333333,
              "#9c179e"
             ],
             [
              0.4444444444444444,
              "#bd3786"
             ],
             [
              0.5555555555555556,
              "#d8576b"
             ],
             [
              0.6666666666666666,
              "#ed7953"
             ],
             [
              0.7777777777777778,
              "#fb9f3a"
             ],
             [
              0.8888888888888888,
              "#fdca26"
             ],
             [
              1,
              "#f0f921"
             ]
            ],
            "type": "contour"
           }
          ],
          "contourcarpet": [
           {
            "colorbar": {
             "outlinewidth": 0,
             "ticks": ""
            },
            "type": "contourcarpet"
           }
          ],
          "heatmap": [
           {
            "colorbar": {
             "outlinewidth": 0,
             "ticks": ""
            },
            "colorscale": [
             [
              0,
              "#0d0887"
             ],
             [
              0.1111111111111111,
              "#46039f"
             ],
             [
              0.2222222222222222,
              "#7201a8"
             ],
             [
              0.3333333333333333,
              "#9c179e"
             ],
             [
              0.4444444444444444,
              "#bd3786"
             ],
             [
              0.5555555555555556,
              "#d8576b"
             ],
             [
              0.6666666666666666,
              "#ed7953"
             ],
             [
              0.7777777777777778,
              "#fb9f3a"
             ],
             [
              0.8888888888888888,
              "#fdca26"
             ],
             [
              1,
              "#f0f921"
             ]
            ],
            "type": "heatmap"
           }
          ],
          "heatmapgl": [
           {
            "colorbar": {
             "outlinewidth": 0,
             "ticks": ""
            },
            "colorscale": [
             [
              0,
              "#0d0887"
             ],
             [
              0.1111111111111111,
              "#46039f"
             ],
             [
              0.2222222222222222,
              "#7201a8"
             ],
             [
              0.3333333333333333,
              "#9c179e"
             ],
             [
              0.4444444444444444,
              "#bd3786"
             ],
             [
              0.5555555555555556,
              "#d8576b"
             ],
             [
              0.6666666666666666,
              "#ed7953"
             ],
             [
              0.7777777777777778,
              "#fb9f3a"
             ],
             [
              0.8888888888888888,
              "#fdca26"
             ],
             [
              1,
              "#f0f921"
             ]
            ],
            "type": "heatmapgl"
           }
          ],
          "histogram": [
           {
            "marker": {
             "pattern": {
              "fillmode": "overlay",
              "size": 10,
              "solidity": 0.2
             }
            },
            "type": "histogram"
           }
          ],
          "histogram2d": [
           {
            "colorbar": {
             "outlinewidth": 0,
             "ticks": ""
            },
            "colorscale": [
             [
              0,
              "#0d0887"
             ],
             [
              0.1111111111111111,
              "#46039f"
             ],
             [
              0.2222222222222222,
              "#7201a8"
             ],
             [
              0.3333333333333333,
              "#9c179e"
             ],
             [
              0.4444444444444444,
              "#bd3786"
             ],
             [
              0.5555555555555556,
              "#d8576b"
             ],
             [
              0.6666666666666666,
              "#ed7953"
             ],
             [
              0.7777777777777778,
              "#fb9f3a"
             ],
             [
              0.8888888888888888,
              "#fdca26"
             ],
             [
              1,
              "#f0f921"
             ]
            ],
            "type": "histogram2d"
           }
          ],
          "histogram2dcontour": [
           {
            "colorbar": {
             "outlinewidth": 0,
             "ticks": ""
            },
            "colorscale": [
             [
              0,
              "#0d0887"
             ],
             [
              0.1111111111111111,
              "#46039f"
             ],
             [
              0.2222222222222222,
              "#7201a8"
             ],
             [
              0.3333333333333333,
              "#9c179e"
             ],
             [
              0.4444444444444444,
              "#bd3786"
             ],
             [
              0.5555555555555556,
              "#d8576b"
             ],
             [
              0.6666666666666666,
              "#ed7953"
             ],
             [
              0.7777777777777778,
              "#fb9f3a"
             ],
             [
              0.8888888888888888,
              "#fdca26"
             ],
             [
              1,
              "#f0f921"
             ]
            ],
            "type": "histogram2dcontour"
           }
          ],
          "mesh3d": [
           {
            "colorbar": {
             "outlinewidth": 0,
             "ticks": ""
            },
            "type": "mesh3d"
           }
          ],
          "parcoords": [
           {
            "line": {
             "colorbar": {
              "outlinewidth": 0,
              "ticks": ""
             }
            },
            "type": "parcoords"
           }
          ],
          "pie": [
           {
            "automargin": true,
            "type": "pie"
           }
          ],
          "scatter": [
           {
            "fillpattern": {
             "fillmode": "overlay",
             "size": 10,
             "solidity": 0.2
            },
            "type": "scatter"
           }
          ],
          "scatter3d": [
           {
            "line": {
             "colorbar": {
              "outlinewidth": 0,
              "ticks": ""
             }
            },
            "marker": {
             "colorbar": {
              "outlinewidth": 0,
              "ticks": ""
             }
            },
            "type": "scatter3d"
           }
          ],
          "scattercarpet": [
           {
            "marker": {
             "colorbar": {
              "outlinewidth": 0,
              "ticks": ""
             }
            },
            "type": "scattercarpet"
           }
          ],
          "scattergeo": [
           {
            "marker": {
             "colorbar": {
              "outlinewidth": 0,
              "ticks": ""
             }
            },
            "type": "scattergeo"
           }
          ],
          "scattergl": [
           {
            "marker": {
             "colorbar": {
              "outlinewidth": 0,
              "ticks": ""
             }
            },
            "type": "scattergl"
           }
          ],
          "scattermapbox": [
           {
            "marker": {
             "colorbar": {
              "outlinewidth": 0,
              "ticks": ""
             }
            },
            "type": "scattermapbox"
           }
          ],
          "scatterpolar": [
           {
            "marker": {
             "colorbar": {
              "outlinewidth": 0,
              "ticks": ""
             }
            },
            "type": "scatterpolar"
           }
          ],
          "scatterpolargl": [
           {
            "marker": {
             "colorbar": {
              "outlinewidth": 0,
              "ticks": ""
             }
            },
            "type": "scatterpolargl"
           }
          ],
          "scatterternary": [
           {
            "marker": {
             "colorbar": {
              "outlinewidth": 0,
              "ticks": ""
             }
            },
            "type": "scatterternary"
           }
          ],
          "surface": [
           {
            "colorbar": {
             "outlinewidth": 0,
             "ticks": ""
            },
            "colorscale": [
             [
              0,
              "#0d0887"
             ],
             [
              0.1111111111111111,
              "#46039f"
             ],
             [
              0.2222222222222222,
              "#7201a8"
             ],
             [
              0.3333333333333333,
              "#9c179e"
             ],
             [
              0.4444444444444444,
              "#bd3786"
             ],
             [
              0.5555555555555556,
              "#d8576b"
             ],
             [
              0.6666666666666666,
              "#ed7953"
             ],
             [
              0.7777777777777778,
              "#fb9f3a"
             ],
             [
              0.8888888888888888,
              "#fdca26"
             ],
             [
              1,
              "#f0f921"
             ]
            ],
            "type": "surface"
           }
          ],
          "table": [
           {
            "cells": {
             "fill": {
              "color": "#EBF0F8"
             },
             "line": {
              "color": "white"
             }
            },
            "header": {
             "fill": {
              "color": "#C8D4E3"
             },
             "line": {
              "color": "white"
             }
            },
            "type": "table"
           }
          ]
         },
         "layout": {
          "annotationdefaults": {
           "arrowcolor": "#2a3f5f",
           "arrowhead": 0,
           "arrowwidth": 1
          },
          "autotypenumbers": "strict",
          "coloraxis": {
           "colorbar": {
            "outlinewidth": 0,
            "ticks": ""
           }
          },
          "colorscale": {
           "diverging": [
            [
             0,
             "#8e0152"
            ],
            [
             0.1,
             "#c51b7d"
            ],
            [
             0.2,
             "#de77ae"
            ],
            [
             0.3,
             "#f1b6da"
            ],
            [
             0.4,
             "#fde0ef"
            ],
            [
             0.5,
             "#f7f7f7"
            ],
            [
             0.6,
             "#e6f5d0"
            ],
            [
             0.7,
             "#b8e186"
            ],
            [
             0.8,
             "#7fbc41"
            ],
            [
             0.9,
             "#4d9221"
            ],
            [
             1,
             "#276419"
            ]
           ],
           "sequential": [
            [
             0,
             "#0d0887"
            ],
            [
             0.1111111111111111,
             "#46039f"
            ],
            [
             0.2222222222222222,
             "#7201a8"
            ],
            [
             0.3333333333333333,
             "#9c179e"
            ],
            [
             0.4444444444444444,
             "#bd3786"
            ],
            [
             0.5555555555555556,
             "#d8576b"
            ],
            [
             0.6666666666666666,
             "#ed7953"
            ],
            [
             0.7777777777777778,
             "#fb9f3a"
            ],
            [
             0.8888888888888888,
             "#fdca26"
            ],
            [
             1,
             "#f0f921"
            ]
           ],
           "sequentialminus": [
            [
             0,
             "#0d0887"
            ],
            [
             0.1111111111111111,
             "#46039f"
            ],
            [
             0.2222222222222222,
             "#7201a8"
            ],
            [
             0.3333333333333333,
             "#9c179e"
            ],
            [
             0.4444444444444444,
             "#bd3786"
            ],
            [
             0.5555555555555556,
             "#d8576b"
            ],
            [
             0.6666666666666666,
             "#ed7953"
            ],
            [
             0.7777777777777778,
             "#fb9f3a"
            ],
            [
             0.8888888888888888,
             "#fdca26"
            ],
            [
             1,
             "#f0f921"
            ]
           ]
          },
          "colorway": [
           "#636efa",
           "#EF553B",
           "#00cc96",
           "#ab63fa",
           "#FFA15A",
           "#19d3f3",
           "#FF6692",
           "#B6E880",
           "#FF97FF",
           "#FECB52"
          ],
          "font": {
           "color": "#2a3f5f"
          },
          "geo": {
           "bgcolor": "white",
           "lakecolor": "white",
           "landcolor": "#E5ECF6",
           "showlakes": true,
           "showland": true,
           "subunitcolor": "white"
          },
          "hoverlabel": {
           "align": "left"
          },
          "hovermode": "closest",
          "mapbox": {
           "style": "light"
          },
          "paper_bgcolor": "white",
          "plot_bgcolor": "#E5ECF6",
          "polar": {
           "angularaxis": {
            "gridcolor": "white",
            "linecolor": "white",
            "ticks": ""
           },
           "bgcolor": "#E5ECF6",
           "radialaxis": {
            "gridcolor": "white",
            "linecolor": "white",
            "ticks": ""
           }
          },
          "scene": {
           "xaxis": {
            "backgroundcolor": "#E5ECF6",
            "gridcolor": "white",
            "gridwidth": 2,
            "linecolor": "white",
            "showbackground": true,
            "ticks": "",
            "zerolinecolor": "white"
           },
           "yaxis": {
            "backgroundcolor": "#E5ECF6",
            "gridcolor": "white",
            "gridwidth": 2,
            "linecolor": "white",
            "showbackground": true,
            "ticks": "",
            "zerolinecolor": "white"
           },
           "zaxis": {
            "backgroundcolor": "#E5ECF6",
            "gridcolor": "white",
            "gridwidth": 2,
            "linecolor": "white",
            "showbackground": true,
            "ticks": "",
            "zerolinecolor": "white"
           }
          },
          "shapedefaults": {
           "line": {
            "color": "#2a3f5f"
           }
          },
          "ternary": {
           "aaxis": {
            "gridcolor": "white",
            "linecolor": "white",
            "ticks": ""
           },
           "baxis": {
            "gridcolor": "white",
            "linecolor": "white",
            "ticks": ""
           },
           "bgcolor": "#E5ECF6",
           "caxis": {
            "gridcolor": "white",
            "linecolor": "white",
            "ticks": ""
           }
          },
          "title": {
           "x": 0.05
          },
          "xaxis": {
           "automargin": true,
           "gridcolor": "white",
           "linecolor": "white",
           "ticks": "",
           "title": {
            "standoff": 15
           },
           "zerolinecolor": "white",
           "zerolinewidth": 2
          },
          "yaxis": {
           "automargin": true,
           "gridcolor": "white",
           "linecolor": "white",
           "ticks": "",
           "title": {
            "standoff": 15
           },
           "zerolinecolor": "white",
           "zerolinewidth": 2
          }
         }
        },
        "xaxis": {
         "anchor": "y",
         "domain": [
          0,
          1
         ],
         "title": {
          "text": "Age"
         }
        },
        "yaxis": {
         "anchor": "x",
         "domain": [
          0,
          1
         ],
         "title": {
          "text": "YearlyIncome"
         }
        }
       }
      },
      "text/html": [
       "<div>                            <div id=\"0049a378-494c-41cd-9f9a-7547788d2903\" class=\"plotly-graph-div\" style=\"height:525px; width:100%;\"></div>            <script type=\"text/javascript\">                require([\"plotly\"], function(Plotly) {                    window.PLOTLYENV=window.PLOTLYENV || {};                                    if (document.getElementById(\"0049a378-494c-41cd-9f9a-7547788d2903\")) {                    Plotly.newPlot(                        \"0049a378-494c-41cd-9f9a-7547788d2903\",                        [{\"hovertemplate\":\"<b>%{hovertext}</b><br><br>Gender=M<br>Age=%{x}<br>YearlyIncome=%{y}<extra></extra>\",\"hovertext\":[\"Jon\",\"Eugene\",\"Ruben\",\"Julio\",\"Marco\",\"Shannon\",\"Curtis\",\"Ian\",\"Wyatt\",\"Clarence\",\"Luke\",\"Jordan\",\"Ethan\",\"Seth\",\"Russell\",\"Alejandro\",\"Harold\",\"Jessie\",\"Jimmy\",\"Jaime\",\"Marc\",\"Jesse\",\"Nathan\",\"Adam\",\"Leonard\",\"Jeremy\",\"Alan\",\"Daniel\",\"Gilbert\",\"Carl\",\"Marc\",\"Jon\",\"Todd\",\"Noah\",\"Chase\",\"Caleb\",\"Willie\",\"Levi\",\"Blake\",\"Donald\",\"Damien\",\"Lucas\",\"Ryan\",\"Hunter\",\"Trevor\",\"Dalton\",\"Cedric\",\"Chad\",\"Andr\\u00e9s\",\"Edwin\",\"Adam\",\"Edgar\",\"Jessie\",\"Ruben\",\"Curtis\",\"Micheal\",\"Alvin\",\"Clinton\",\"Alvin\",\"Evan\",\"Orlando\",\"Byron\",\"Philip\",\"Ross\",\"Shaun\",\"Larry\",\"Marcus\",\"Javier\",\"Eduardo\",\"Jonathan\",\"Edward\",\"Ernest\",\"Ross\",\"Theodore\",\"Russell\",\"James\",\"Hunter\",\"Jason\",\"Maurice\",\"Chase\",\"Gabriel\",\"Devin\",\"David\",\"Bryce\",\"Jonathan\",\"Nicholas\",\"Luis\",\"Mason\",\"Jose\",\"Nathan\",\"Devin\",\"Lawrence\",\"Carson\",\"James\",\"Ian\",\"Alfredo\",\"Jason\",\"Luis\",\"Blake\",\"Edward\",\"Charles\",\"Charles\",\"Nathan\",\"Marshall\",\"Adrian\",\"Dennis\",\"Todd\",\"Angel\",\"Jeremy\",\"Clarence\",\"Larry\",\"Ricky\",\"Tristan\",\"Xavier\",\"Nicholas\",\"Jos\\u00e9\",\"Johnathan\",\"Colin\",\"Xavier\",\"Eduardo\",\"David\",\"Ryan\",\"Robert\",\"Nathan\",\"Kyle\",\"Charles\",\"Jonathan\",\"Robert\",\"Christian\",\"Arturo\",\"Jeremy\",\"Hunter\",\"Henry\",\"Seth\",\"Luke\",\"Dalton\",\"Noah\",\"Jon\",\"Orlando\",\"Fernando\",\"Cameron\",\"Spencer\",\"Sean\",\"Micah\",\"Hunter\",\"Ian\",\"Trevor\",\"Luke\",\"Terrance\",\"Jose\",\"Zachary\",\"Elijah\",\"Rafael\",\"Jaime\",\"Julian\",\"Andy\",\"Ryan\",\"Shaun\",\"Jerome\",\"Frank\",\"Dennis\",\"Randy\",\"Marshall\",\"Arthur\",\"Roy\",\"Shawn\",\"Raymond\",\"Roberto\",\"Terrence\",\"Ramon\",\"Jarrod\",\"Tyrone\",\"Damien\",\"Julian\",\"Calvin\",\"Edward\",\"Jimmy\",\"Francisco\",\"Lance\",\"David\",\"Gary\",\"Mitchell\",\"Edward\",\"Miguel\",\"Joseph\",\"Karl\",\"Willie\",\"Kurt\",\"George\",\"Ian\",\"Colin\",\"Franklin\",\"Mario\",\"Darren\",\"Maurice\",\"Devin\",\"Ian\",\"Randy\",\"Rafael\",\"Kyle\",\"Jordan\",\"Dustin\",\"Kristopher\",\"Marco\",\"Bryant\",\"Maurice\",\"Andre\",\"Alfredo\",\"Sergio\",\"Joseph\",\"Kyle\",\"Alvin\",\"Brett\",\"Ruben\",\"Stanley\",\"Ross\",\"Jon\",\"Melvin\",\"Victor\",\"Alejandro\",\"Louis\",\"Grant\",\"Arturo\",\"Edwin\",\"Jay\",\"Kenneth\",\"Melvin\",\"Cesar\",\"Tristan\",\"Billy\",\"Darryl\",\"Calvin\",\"Erick\",\"Donald\",\"Jermaine\",\"Danny\",\"Andre\",\"Terrence\",\"Jimmy\",\"Francis\",\"Gary\",\"Arturo\",\"Pedro\",\"Jared\",\"Dennis\",\"Nicholas\",\"Seth\",\"Caleb\",\"Dalton\",\"Edward\",\"Jerome\",\"Christian\",\"Lucas\",\"Austin\",\"Andrew\",\"Cameron\",\"Devin\",\"Logan\",\"Dakota\",\"Justin\",\"Alberto\",\"Aidan\",\"Alejandro\",\"Joel\",\"Reginald\",\"Raymond\",\"Shannon\",\"Eddie\",\"Lucas\",\"Ivan\",\"Frederick\",\"Jarrod\",\"Cesar\",\"Jorge\",\"Erik\",\"Troy\",\"Joel\",\"Billy\",\"Jackson\",\"Micah\",\"Clayton\",\"Melvin\",\"Devin\",\"Alberto\",\"Kevin\",\"Darrell\",\"Armando\",\"Corey\",\"Sebastian\",\"Roger\",\"Ivan\",\"Larry\",\"Geoffrey\",\"Edgar\",\"Clinton\",\"Cesar\",\"Eugene\",\"Blake\",\"Ernest\",\"Keith\",\"Dwayne\",\"Sean\",\"Brian\",\"Gabriel\",\"Ryan\",\"Zachary\",\"Dalton\",\"Isaiah\",\"Antonio\",\"Thomas\",\"Samuel\",\"Darrell\",\"Antonio\",\"James\",\"Charles\",\"Randy\",\"Kevin\",\"Ian\",\"Caleb\",\"Samuel\",\"Robert\",\"Miguel\",\"Jeremiah\",\"Ethan\",\"Seth\",\"Angel\",\"Blake\",\"Chad\",\"Devin\",\"Alan\",\"Charles\",\"Johnny\",\"Dalton\",\"Greg\",\"Devin\",\"Jose\",\"Luke\",\"Cody\",\"Ian\",\"Caleb\",\"Jonathon\",\"Logan\",\"Eduardo\",\"Jackson\",\"Chase\",\"Xavier\",\"David\",\"Evan\",\"Blake\",\"Daniel\",\"Kyle\",\"Evan\",\"Marcus\",\"Blake\",\"Julian\",\"Luke\",\"Jason\",\"Jose\",\"Micah\",\"Benjamin\",\"Logan\",\"Caleb\",\"Erick\",\"Omar\",\"Sebastian\",\"Elijah\",\"Aaron\",\"Edward\",\"Chase\",\"Seth\",\"Blake\",\"Eduardo\",\"Willie\",\"Vincent\",\"Colin\",\"Edgar\",\"Randall\",\"Ross\",\"Marc\",\"Clayton\",\"Peter\",\"Isaac\",\"Cameron\",\"Gavin\",\"Seth\",\"Carlos\",\"Jose\",\"Theodore\",\"Ian\",\"Jerry\",\"Timothy\",\"Chase\",\"Xavier\",\"Devin\",\"Brendan\",\"Jessie\",\"Aaron\",\"Richard\",\"Lucas\",\"James\",\"Juan\",\"Antonio\",\"Andrew\",\"Dalton\",\"Joe\",\"Daniel\",\"Jose\",\"Austin\",\"Christian\",\"Oscar\",\"Fernando\",\"Elijah\",\"Garrett\",\"Justin\",\"Tyler\",\"Julian\",\"Sean\",\"Justin\",\"Joshua\",\"Kyle\",\"Jason\",\"Christian\",\"Seth\",\"Jordan\",\"Blake\",\"Lucas\",\"Nathaniel\",\"Dalton\",\"Ryan\",\"Adrian\",\"Jonathan\",\"Edgar\",\"Richard\",\"Patrick\",\"Kurt\",\"Joseph\",\"Aaron\",\"Blake\",\"Julio\",\"Orlando\",\"Dustin\",\"Frank\",\"Orlando\",\"Byron\",\"Drew\",\"Isaiah\",\"Rafael\",\"Philip\",\"Joe\",\"Roy\",\"Warren\",\"Gilbert\",\"James\",\"Ian\",\"Eduardo\",\"Marcus\",\"Mathew\",\"Justin\",\"Hunter\",\"Devin\",\"Seth\",\"Kevin\",\"Tyler\",\"Adam\",\"George\",\"Dennis\",\"Dorothy\",\"Joseph\",\"Gabriel\",\"Dylan\",\"Antonio\",\"Sharon\",\"Rafael\",\"Randy\",\"Randy\",\"Jackson\",\"Christopher\",\"Alex\",\"Max\",\"Frederick\",\"Kelvin\",\"Johnny\"],\"legendgroup\":\"M\",\"marker\":{\"color\":\"#636efa\",\"symbol\":\"circle\"},\"mode\":\"markers\",\"name\":\"M\",\"orientation\":\"v\",\"showlegend\":true,\"x\":[51.0,46.0,52.0,46.0,53.0,53.0,53.0,43.0,38.0,67.0,39.0,39.0,38.0,38.0,39.0,71.0,71.0,70.0,70.0,64.0,68.0,40.0,41.0,68.0,67.0,66.0,66.0,66.0,65.0,52.0,57.0,63.0,47.0,42.0,41.0,40.0,62.0,61.0,60.0,53.0,58.0,60.0,59.0,59.0,54.0,60.0,55.0,55.0,55.0,50.0,56.0,48.0,53.0,42.0,55.0,50.0,55.0,43.0,60.0,82.0,56.0,57.0,57.0,54.0,68.0,66.0,37.0,40.0,40.0,40.0,38.0,78.0,76.0,76.0,76.0,41.0,41.0,41.0,43.0,43.0,42.0,43.0,49.0,49.0,44.0,50.0,54.0,44.0,75.0,68.0,63.0,73.0,73.0,72.0,72.0,71.0,69.0,63.0,69.0,69.0,67.0,66.0,67.0,60.0,65.0,59.0,59.0,65.0,65.0,59.0,59.0,60.0,57.0,85.0,85.0,73.0,84.0,84.0,84.0,53.0,47.0,47.0,47.0,60.0,83.0,54.0,54.0,54.0,55.0,54.0,50.0,55.0,56.0,55.0,62.0,62.0,82.0,82.0,81.0,57.0,57.0,51.0,57.0,57.0,57.0,63.0,64.0,63.0,79.0,79.0,78.0,78.0,78.0,77.0,77.0,77.0,77.0,50.0,56.0,50.0,56.0,81.0,50.0,48.0,50.0,62.0,77.0,74.0,37.0,38.0,39.0,39.0,39.0,39.0,38.0,38.0,74.0,74.0,74.0,56.0,46.0,58.0,48.0,51.0,58.0,41.0,42.0,48.0,47.0,47.0,48.0,42.0,65.0,58.0,49.0,63.0,63.0,73.0,72.0,72.0,71.0,71.0,63.0,65.0,48.0,66.0,60.0,67.0,70.0,69.0,42.0,42.0,41.0,42.0,38.0,43.0,43.0,39.0,45.0,45.0,46.0,46.0,47.0,44.0,44.0,54.0,37.0,38.0,38.0,39.0,44.0,39.0,40.0,45.0,46.0,46.0,40.0,40.0,47.0,46.0,46.0,43.0,42.0,42.0,86.0,51.0,64.0,58.0,57.0,62.0,62.0,50.0,61.0,59.0,60.0,58.0,59.0,53.0,59.0,52.0,53.0,58.0,43.0,43.0,49.0,48.0,44.0,50.0,50.0,50.0,44.0,51.0,51.0,51.0,51.0,45.0,51.0,46.0,52.0,52.0,42.0,84.0,51.0,51.0,47.0,39.0,40.0,37.0,38.0,54.0,40.0,40.0,40.0,40.0,36.0,41.0,41.0,42.0,38.0,37.0,41.0,58.0,58.0,43.0,39.0,44.0,44.0,46.0,46.0,45.0,45.0,39.0,45.0,47.0,47.0,48.0,42.0,43.0,48.0,40.0,37.0,48.0,42.0,47.0,47.0,41.0,50.0,51.0,46.0,51.0,42.0,48.0,48.0,48.0,51.0,52.0,46.0,46.0,52.0,53.0,53.0,53.0,47.0,47.0,54.0,53.0,37.0,49.0,54.0,49.0,55.0,55.0,50.0,51.0,57.0,50.0,50.0,50.0,50.0,50.0,57.0,51.0,53.0,52.0,52.0,52.0,58.0,58.0,48.0,58.0,59.0,42.0,49.0,43.0,43.0,50.0,39.0,50.0,39.0,39.0,44.0,43.0,39.0,44.0,44.0,46.0,44.0,40.0,45.0,45.0,41.0,47.0,43.0,43.0,48.0,42.0,48.0,46.0,46.0,48.0,49.0,45.0,50.0,47.0,41.0,47.0,49.0,51.0,47.0,41.0,40.0,52.0,52.0,52.0,46.0,46.0,53.0,52.0,48.0,53.0,49.0,48.0,54.0,54.0,55.0,56.0,51.0,44.0,50.0,45.0,57.0,51.0,58.0,47.0,52.0,59.0,53.0,59.0,47.0,48.0,48.0,47.0,48.0,42.0,50.0,48.0,51.0,49.0,46.0,51.0,53.0,52.0,38.0,37.0,39.0,38.0,40.0,39.0,40.0,40.0,40.0,40.0,40.0,40.0,68.0,37.0,63.0,42.0,42.0,44.0,62.0,56.0,56.0,59.0,43.0,45.0,60.0,60.0,54.0,55.0,57.0,57.0],\"xaxis\":\"x\",\"y\":[90000.0,60000.0,60000.0,70000.0,60000.0,70000.0,60000.0,100000.0,30000.0,30000.0,40000.0,40000.0,40000.0,40000.0,60000.0,10000.0,30000.0,30000.0,30000.0,20000.0,30000.0,30000.0,60000.0,20000.0,30000.0,30000.0,30000.0,30000.0,40000.0,70000.0,80000.0,80000.0,80000.0,40000.0,40000.0,60000.0,80000.0,70000.0,80000.0,160000.0,170000.0,80000.0,70000.0,80000.0,90000.0,90000.0,70000.0,70000.0,60000.0,60000.0,60000.0,70000.0,70000.0,70000.0,60000.0,70000.0,70000.0,70000.0,80000.0,30000.0,70000.0,70000.0,70000.0,80000.0,10000.0,10000.0,30000.0,30000.0,40000.0,40000.0,40000.0,60000.0,40000.0,40000.0,40000.0,40000.0,40000.0,40000.0,40000.0,40000.0,40000.0,40000.0,80000.0,90000.0,100000.0,110000.0,70000.0,90000.0,110000.0,100000.0,170000.0,60000.0,70000.0,60000.0,60000.0,60000.0,70000.0,40000.0,60000.0,70000.0,60000.0,60000.0,70000.0,60000.0,70000.0,60000.0,70000.0,70000.0,70000.0,130000.0,110000.0,120000.0,110000.0,30000.0,90000.0,60000.0,70000.0,70000.0,120000.0,90000.0,120000.0,130000.0,130000.0,90000.0,50000.0,80000.0,90000.0,90000.0,90000.0,110000.0,120000.0,170000.0,70000.0,150000.0,60000.0,60000.0,70000.0,70000.0,70000.0,80000.0,80000.0,90000.0,110000.0,110000.0,80000.0,60000.0,70000.0,60000.0,90000.0,120000.0,90000.0,90000.0,130000.0,90000.0,90000.0,90000.0,110000.0,20000.0,10000.0,20000.0,20000.0,20000.0,30000.0,10000.0,10000.0,10000.0,10000.0,40000.0,10000.0,10000.0,10000.0,10000.0,10000.0,10000.0,20000.0,10000.0,30000.0,30000.0,40000.0,30000.0,10000.0,20000.0,20000.0,30000.0,40000.0,10000.0,10000.0,10000.0,10000.0,10000.0,30000.0,40000.0,20000.0,10000.0,20000.0,80000.0,80000.0,90000.0,90000.0,150000.0,100000.0,170000.0,110000.0,80000.0,110000.0,80000.0,170000.0,90000.0,80000.0,90000.0,80000.0,80000.0,130000.0,70000.0,80000.0,100000.0,120000.0,90000.0,90000.0,90000.0,90000.0,150000.0,170000.0,10000.0,20000.0,60000.0,20000.0,30000.0,30000.0,30000.0,40000.0,40000.0,40000.0,40000.0,20000.0,20000.0,20000.0,30000.0,40000.0,40000.0,40000.0,40000.0,40000.0,40000.0,50000.0,60000.0,30000.0,30000.0,30000.0,40000.0,40000.0,80000.0,40000.0,40000.0,40000.0,60000.0,60000.0,60000.0,60000.0,60000.0,60000.0,60000.0,20000.0,30000.0,30000.0,40000.0,10000.0,20000.0,20000.0,30000.0,30000.0,20000.0,20000.0,20000.0,20000.0,30000.0,30000.0,30000.0,20000.0,30000.0,20000.0,30000.0,40000.0,40000.0,30000.0,20000.0,20000.0,20000.0,20000.0,40000.0,30000.0,30000.0,30000.0,30000.0,20000.0,20000.0,30000.0,30000.0,20000.0,20000.0,40000.0,60000.0,60000.0,50000.0,50000.0,50000.0,60000.0,40000.0,60000.0,40000.0,60000.0,60000.0,70000.0,50000.0,40000.0,40000.0,60000.0,60000.0,60000.0,60000.0,60000.0,60000.0,60000.0,60000.0,70000.0,80000.0,70000.0,60000.0,70000.0,80000.0,60000.0,70000.0,70000.0,80000.0,40000.0,40000.0,40000.0,40000.0,80000.0,40000.0,50000.0,50000.0,50000.0,50000.0,60000.0,60000.0,60000.0,60000.0,60000.0,70000.0,70000.0,40000.0,60000.0,40000.0,60000.0,70000.0,70000.0,70000.0,70000.0,60000.0,60000.0,60000.0,60000.0,60000.0,60000.0,60000.0,70000.0,60000.0,60000.0,60000.0,70000.0,80000.0,60000.0,70000.0,70000.0,70000.0,70000.0,80000.0,80000.0,90000.0,50000.0,50000.0,50000.0,50000.0,50000.0,60000.0,40000.0,40000.0,60000.0,60000.0,50000.0,60000.0,40000.0,40000.0,40000.0,40000.0,60000.0,70000.0,70000.0,60000.0,60000.0,40000.0,40000.0,60000.0,70000.0,70000.0,70000.0,60000.0,80000.0,80000.0,80000.0,80000.0,80000.0,80000.0,60000.0,60000.0,40000.0,50000.0,50000.0,60000.0,60000.0,60000.0,60000.0,40000.0,70000.0,60000.0,40000.0,70000.0,60000.0,60000.0,60000.0,60000.0,60000.0,60000.0,80000.0,60000.0,60000.0,60000.0,90000.0,90000.0,100000.0,100000.0,60000.0,90000.0,70000.0,110000.0,80000.0,70000.0,70000.0,70000.0,60000.0,60000.0,90000.0,60000.0,40000.0,70000.0,40000.0,40000.0,30000.0,30000.0,60000.0,60000.0,100000.0,60000.0,20000.0,20000.0,80000.0,60000.0,60000.0,70000.0,80000.0,70000.0,70000.0,130000.0,60000.0,130000.0,80000.0,80000.0,70000.0,60000.0,60000.0,60000.0],\"yaxis\":\"y\",\"type\":\"scatter\"},{\"hovertemplate\":\"<b>%{hovertext}</b><br><br>Gender=F<br>Age=%{x}<br>YearlyIncome=%{y}<extra></extra>\",\"hovertext\":[\"Christy\",\"Elizabeth\",\"Janet\",\"Rob\",\"Jacquelyn\",\"Lauren\",\"Sydney\",\"Chloe\",\"Shannon\",\"Destiny\",\"Jill\",\"Bethany\",\"Theresa\",\"Denise\",\"Ebony\",\"Wendy\",\"Jennifer\",\"Chloe\",\"Diana\",\"Amanda\",\"Megan\",\"Christine\",\"Jaclyn\",\"Carol\",\"Heidi\",\"Ana\",\"Deanna\",\"Michele\",\"Ashlee\",\"Angela\",\"Jessica\",\"Grace\",\"Tiffany\",\"Carolyn\",\"Linda\",\"Casey\",\"Amy\",\"Felicia\",\"Leah\",\"Gina\",\"Savannah\",\"Angela\",\"Alyssa\",\"Emily\",\"Tamara\",\"Abigail\",\"Cheryl\",\"Aimee\",\"Mallory\",\"Latasha\",\"Abby\",\"Julia\",\"Cassie\",\"Candace\",\"Bianca\",\"Kari\",\"Meredith\",\"Crystal\",\"Leslie\",\"April\",\"Beth\",\"Dana\",\"Jan\",\"Samantha\",\"Julia\",\"Caroline\",\"Amanda\",\"Melissa\",\"Angela\",\"Brianna\",\"Jasmine\",\"Lauren\",\"Tanya\",\"Nicole\",\"Jasmine\",\"Karla\",\"Melinda\",\"Angela\",\"Megan\",\"Maria\",\"Hannah\",\"Brianna\",\"Emily\",\"Jocelyn\",\"Ashley\",\"Jasmine\",\"Carol\",\"Gabrielle\",\"Sarah\",\"Molly\",\"April\",\"Stephanie\",\"Jasmine\",\"Meghan\",\"Ashley\",\"Sarah\",\"Jennifer\",\"Catherine\",\"Kristi\",\"Jacqueline\",\"Megan\",\"Andrea\",\"Brooke\",\"Jacqueline\",\"Amanda\",\"Alexia\",\"Destiny\",\"Abby\",\"Danielle\",\"Maria\",\"Allison\",\"Samantha\",\"Chloe\",\"Stephanie\",\"Ana\",\"Jasmine\",\"Natalie\",\"Olivia\",\"Erica\",\"Alexandra\",\"Hailey\",\"Tiffany\",\"Madison\",\"Sydney\",\"Ashley\",\"Amber\",\"Hailey\",\"Anna\",\"Mayra\",\"Latoya\",\"Anne\",\"Lisa\",\"Robin\",\"Alexis\",\"Latasha\",\"Claudia\",\"Cindy\",\"Shannon\",\"Katelyn\",\"Jacqueline\",\"Victoria\",\"Katelyn\",\"Stephanie\",\"Jennifer\",\"Trinity\",\"Elizabeth\",\"Taylor\",\"Katelyn\",\"Danielle\",\"Lauren\",\"Jenny\",\"Nancy\",\"Amanda\",\"Megan\",\"Theresa\",\"Cindy\",\"Maria\",\"Katelyn\",\"Jenna\",\"Taylor\",\"Haley\",\"Julia\",\"Julia\",\"Victoria\",\"Erin\",\"Gabrielle\",\"Sara\",\"Mya\",\"Hailey\",\"Victoria\",\"Jessica\",\"Jade\",\"Morgan\",\"Sydney\",\"Samantha\",\"Deanna\",\"Emily\",\"Nicole\",\"Carla\",\"Melody\",\"Jessie\",\"Robin\",\"Deanna\",\"Mindy\",\"Cara\",\"Anne\",\"Carrie\",\"Deanna\",\"Cynthia\",\"Cindy\",\"Jennifer\",\"Brittney\",\"Virginia\",\"Ashlee\",\"Alicia\",\"Lacey\",\"Wendy\",\"Carly\",\"Shannon\",\"Meredith\",\"Marie\",\"Tiffany\",\"Jaclyn\",\"Megan\",\"Christine\",\"Lindsay\",\"Beth\",\"Latoya\",\"Brenda\",\"Linda\",\"Kelli\",\"Nancy\",\"Megan\",\"Bonnie\",\"Latoya\",\"Jacqueline\",\"Sydney\",\"Megan\",\"Katrina\",\"Lacey\",\"Amy\",\"Jasmine\",\"Pamela\",\"Ariana\",\"Desiree\",\"Deanna\",\"Casey\",\"Dominique\",\"Robin\",\"Taylor\",\"Jenny\",\"Janet\",\"Erika\",\"Grace\",\"Tina\",\"Kari\",\"Bethany\",\"Jennifer\",\"Erika\",\"Melinda\",\"Jaime\",\"Bianca\",\"Tasha\",\"Laura\",\"Alisha\",\"Jaclyn\",\"Latasha\",\"Grace\",\"Erika\",\"Colleen\",\"Erica\",\"Adrienne\",\"Ariana\",\"Morgan\",\"Deborah\",\"Dawn\",\"Katrina\",\"Sarah\",\"Brandy\",\"Jordan\",\"Jasmine\",\"Isabella\",\"Elizabeth\",\"Roger\",\"Natalie\",\"Alyssa\",\"Shannon\",\"Mya\",\"Katherine\",\"Jada\",\"Ariana\",\"Alyssa\",\"Ariana\",\"Katherine\",\"Jenna\",\"Joan\",\"Nina\",\"Lauren\",\"Ebony\",\"Nicole\",\"Sheena\",\"Christine\",\"Cindy\",\"Crystal\",\"Deb\",\"Sharon\",\"Sydney\",\"Alexandria\",\"Felicia\",\"Whitney\",\"Briana\",\"April\",\"Carla\",\"Alexia\",\"Kristin\",\"Meagan\",\"Karla\",\"Janet\",\"Trisha\",\"Cindy\",\"Claudia\",\"Karla\",\"Kari\",\"Candace\",\"Ebony\",\"Erika\",\"Stacey\",\"Janelle\",\"Meredith\",\"Melody\",\"Linda\",\"Heidi\",\"Melody\",\"Meredith\",\"Katrina\",\"Casey\",\"Sierra\",\"Megan\",\"Leah\",\"Angela\",\"Destiny\",\"Mariah\",\"Haley\",\"Alexandra\",\"Kimberly\",\"Morgan\",\"Angelica\",\"Chloe\",\"Morgan\",\"Naomi\",\"Gabriella\",\"Anna\",\"Patricia\",\"Sydney\",\"Ariana\",\"Tamara\",\"Katelyn\",\"Megan\",\"Miranda\",\"Alyssa\",\"Janet\",\"Jada\",\"Isabella\",\"Jacqueline\",\"Jessica\",\"Susan\",\"Morgan\",\"Kaylee\",\"Abigail\",\"Kaitlyn\",\"Victoria\",\"Caroline\",\"Kaitlyn\",\"Hailey\",\"Mackenzie\",\"Jenny\",\"Kaylee\",\"Brooke\",\"Natalie\",\"Elizabeth\",\"Hailey\",\"Zoe\",\"Shelby\",\"Alexandria\",\"Chloe\",\"Sarah\",\"Morgan\",\"Jennifer\",\"Emma\",\"Tanya\",\"Kristi\",\"Sydney\",\"Megan\",\"Jan\",\"Tamara\",\"Stephanie\",\"Allison\",\"Destiny\",\"Latoya\",\"Victoria\",\"Lauren\",\"Felicia\",\"Janet\",\"Linda\",\"Dawn\",\"Melody\",\"Jessie\",\"Candace\",\"Meagan\",\"Haley\",\"Emma\",\"Sierra\",\"Miranda\",\"Haley\",\"Sarah\",\"Jessica\",\"Barbara\",\"Sara\",\"Destiny\",\"Bailey\",\"Alexia\",\"Lauren\",\"Nicole\",\"Isabel\",\"Jennifer\",\"Madison\",\"Jan\",\"Haley\",\"Jennifer\",\"Abigail\",\"Mary\",\"Hannah\",\"Morgan\",\"Katelyn\",\"Rohinton\",\"Morgan\",\"Jill\",\"Aimee\",\"Jessie\",\"Sara\",\"Katherine\",\"Sophia\",\"Taylor\",\"Zoe\",\"Haley\",\"Christy\",\"Michele\",\"Natalie\",\"Savannah\",\"Cassidy\",\"Faith\",\"Brooke\",\"Jada\",\"Grace\",\"Isabella\",\"Nicole\",\"Katherine\",\"Olivia\",\"Jessica\",\"Elizabeth\",\"Chloe\",\"Jessica\",\"Kaitlyn\",\"Jillian\",\"Faith\",\"Madison\",\"Alexis\",\"Christine\",\"Melissa\",\"Hannah\",\"Latoya\",\"Katelyn\",\"Whitney\",\"Jamie\",\"Ann\",\"Angela\",\"Brenda\",\"Stacy\",\"Kate\",\"Kaylee\",\"Gabriella\",\"Sarah\",\"Nichole\",\"Jaclyn\",\"Rachael\",\"Rachael\",\"Rebecca\",\"Meagan\",\"Kaylee\",\"Adrienne\",\"Sarah\",\"Ashlee\",\"Nicole\",\"Isabella\",\"Virginia\",\"Jaclyn\",\"Elizabeth\",\"Jessica\",\"Dawn\",\"Rachael\",\"Brandy\",\"Jenny\",\"Tasha\",\"Julia\",\"Jordan\",\"Lacey\",\"Courtney\",\"Alexandria\",\"Courtney\",\"Elizabeth\",\"Ana\",\"Anne\",\"Alexandra\",\"Katie\",\"Latasha\",\"Kelsey\",\"Bailey\",\"Amanda\",\"Katherine\",\"Caroline\",\"Destiny\",\"Audrey\",\"Bonnie\",\"Kimberly\",\"Alexandria\",\"Alexandra\",\"Cheryl\",\"Melanie\",\"Diane\",\"Kathryn\",\"Kara\",\"Joanna\",\"Tonya\",\"Rosa\",\"Leah\",\"Veronica\",\"Kristina\",\"Donna\"],\"legendgroup\":\"F\",\"marker\":{\"color\":\"#EF553B\",\"symbol\":\"circle\"},\"mode\":\"markers\",\"name\":\"F\",\"orientation\":\"v\",\"showlegend\":true,\"x\":[49.0,43.0,46.0,47.0,53.0,44.0,49.0,38.0,73.0,39.0,71.0,65.0,70.0,70.0,70.0,69.0,38.0,39.0,69.0,39.0,40.0,67.0,67.0,37.0,66.0,37.0,65.0,64.0,63.0,42.0,43.0,43.0,56.0,56.0,62.0,62.0,61.0,59.0,60.0,38.0,51.0,51.0,46.0,60.0,59.0,60.0,50.0,44.0,56.0,57.0,52.0,52.0,41.0,52.0,47.0,54.0,55.0,55.0,55.0,56.0,81.0,61.0,41.0,41.0,42.0,37.0,37.0,36.0,37.0,38.0,39.0,39.0,73.0,40.0,37.0,78.0,75.0,41.0,41.0,41.0,42.0,42.0,43.0,44.0,45.0,45.0,49.0,49.0,50.0,63.0,74.0,73.0,73.0,67.0,72.0,73.0,73.0,73.0,71.0,72.0,71.0,71.0,70.0,65.0,70.0,64.0,69.0,69.0,69.0,69.0,69.0,62.0,67.0,68.0,61.0,67.0,67.0,61.0,62.0,67.0,66.0,66.0,61.0,60.0,66.0,66.0,65.0,64.0,59.0,53.0,58.0,48.0,59.0,54.0,60.0,61.0,56.0,57.0,84.0,84.0,52.0,46.0,52.0,47.0,53.0,53.0,53.0,53.0,53.0,60.0,83.0,48.0,48.0,48.0,55.0,45.0,51.0,50.0,50.0,63.0,81.0,56.0,52.0,63.0,58.0,64.0,64.0,52.0,63.0,59.0,64.0,74.0,80.0,79.0,49.0,54.0,55.0,56.0,45.0,75.0,60.0,60.0,56.0,57.0,80.0,72.0,76.0,75.0,38.0,40.0,38.0,38.0,37.0,39.0,39.0,39.0,39.0,68.0,57.0,52.0,57.0,51.0,51.0,58.0,46.0,46.0,46.0,48.0,48.0,48.0,47.0,43.0,65.0,65.0,65.0,44.0,63.0,63.0,72.0,72.0,71.0,62.0,58.0,57.0,63.0,64.0,65.0,66.0,67.0,67.0,67.0,69.0,70.0,41.0,41.0,43.0,43.0,43.0,43.0,43.0,44.0,44.0,44.0,45.0,45.0,42.0,44.0,37.0,42.0,39.0,44.0,45.0,40.0,46.0,46.0,46.0,41.0,43.0,42.0,86.0,51.0,50.0,51.0,58.0,46.0,57.0,63.0,46.0,63.0,62.0,45.0,61.0,61.0,50.0,61.0,54.0,60.0,60.0,54.0,58.0,49.0,49.0,44.0,43.0,43.0,50.0,91.0,85.0,50.0,44.0,51.0,50.0,44.0,50.0,51.0,46.0,52.0,51.0,52.0,51.0,48.0,52.0,47.0,53.0,47.0,42.0,54.0,39.0,39.0,40.0,40.0,40.0,37.0,41.0,42.0,42.0,44.0,44.0,44.0,44.0,44.0,45.0,45.0,40.0,44.0,39.0,44.0,47.0,46.0,47.0,47.0,43.0,40.0,40.0,46.0,40.0,46.0,46.0,43.0,47.0,46.0,39.0,44.0,49.0,51.0,46.0,51.0,48.0,48.0,43.0,46.0,47.0,48.0,47.0,47.0,48.0,49.0,43.0,53.0,48.0,54.0,55.0,54.0,54.0,55.0,50.0,57.0,52.0,56.0,57.0,52.0,58.0,53.0,58.0,58.0,59.0,58.0,59.0,38.0,47.0,41.0,47.0,47.0,49.0,42.0,49.0,50.0,51.0,45.0,44.0,44.0,44.0,45.0,46.0,46.0,45.0,41.0,40.0,45.0,42.0,48.0,47.0,48.0,37.0,47.0,46.0,46.0,46.0,40.0,44.0,49.0,41.0,41.0,45.0,51.0,45.0,45.0,51.0,51.0,42.0,42.0,47.0,48.0,46.0,46.0,47.0,53.0,93.0,53.0,52.0,53.0,42.0,54.0,43.0,49.0,55.0,55.0,50.0,55.0,56.0,56.0,50.0,38.0,44.0,44.0,56.0,56.0,52.0,58.0,58.0,52.0,59.0,58.0,53.0,42.0,47.0,47.0,49.0,37.0,36.0,50.0,50.0,51.0,51.0,50.0,51.0,52.0,43.0,53.0,48.0,37.0,38.0,39.0,39.0,60.0,70.0,39.0,39.0,68.0,66.0,66.0,65.0,66.0,36.0,38.0,65.0,42.0,37.0,44.0,44.0,44.0,44.0,40.0,60.0,60.0,58.0,38.0,44.0,43.0,43.0,42.0,52.0,58.0,59.0,60.0,60.0,55.0,59.0,49.0,55.0,39.0,55.0,50.0,45.0,45.0,57.0,51.0,57.0],\"xaxis\":\"x\",\"y\":[70000.0,80000.0,70000.0,60000.0,70000.0,100000.0,100000.0,30000.0,20000.0,40000.0,30000.0,10000.0,20000.0,20000.0,20000.0,10000.0,60000.0,40000.0,10000.0,60000.0,70000.0,30000.0,30000.0,40000.0,40000.0,60000.0,40000.0,40000.0,80000.0,40000.0,60000.0,70000.0,80000.0,80000.0,80000.0,80000.0,70000.0,80000.0,80000.0,40000.0,120000.0,130000.0,130000.0,60000.0,70000.0,80000.0,90000.0,100000.0,60000.0,60000.0,70000.0,80000.0,70000.0,70000.0,90000.0,70000.0,60000.0,60000.0,70000.0,70000.0,40000.0,70000.0,40000.0,40000.0,40000.0,30000.0,30000.0,30000.0,30000.0,40000.0,40000.0,40000.0,30000.0,40000.0,40000.0,40000.0,60000.0,40000.0,40000.0,40000.0,40000.0,40000.0,40000.0,60000.0,70000.0,80000.0,90000.0,100000.0,110000.0,120000.0,160000.0,70000.0,70000.0,70000.0,70000.0,70000.0,60000.0,60000.0,70000.0,60000.0,60000.0,70000.0,70000.0,70000.0,70000.0,80000.0,40000.0,40000.0,60000.0,60000.0,60000.0,40000.0,40000.0,60000.0,40000.0,60000.0,60000.0,60000.0,60000.0,80000.0,70000.0,70000.0,60000.0,60000.0,60000.0,70000.0,60000.0,70000.0,130000.0,130000.0,160000.0,100000.0,150000.0,170000.0,120000.0,130000.0,130000.0,170000.0,70000.0,120000.0,100000.0,110000.0,130000.0,80000.0,90000.0,90000.0,90000.0,130000.0,150000.0,70000.0,80000.0,80000.0,90000.0,110000.0,110000.0,110000.0,130000.0,130000.0,130000.0,80000.0,50000.0,90000.0,100000.0,60000.0,70000.0,70000.0,70000.0,70000.0,70000.0,40000.0,40000.0,70000.0,80000.0,90000.0,90000.0,10000.0,20000.0,10000.0,10000.0,10000.0,10000.0,10000.0,10000.0,10000.0,30000.0,20000.0,30000.0,20000.0,10000.0,10000.0,10000.0,10000.0,20000.0,20000.0,20000.0,20000.0,20000.0,30000.0,10000.0,20000.0,30000.0,30000.0,30000.0,40000.0,10000.0,10000.0,30000.0,20000.0,30000.0,40000.0,40000.0,40000.0,10000.0,10000.0,20000.0,10000.0,80000.0,80000.0,60000.0,70000.0,110000.0,80000.0,80000.0,90000.0,110000.0,120000.0,90000.0,80000.0,100000.0,160000.0,130000.0,90000.0,90000.0,60000.0,70000.0,70000.0,70000.0,70000.0,80000.0,80000.0,90000.0,100000.0,80000.0,110000.0,110000.0,40000.0,30000.0,20000.0,40000.0,40000.0,40000.0,30000.0,10000.0,10000.0,20000.0,40000.0,40000.0,40000.0,40000.0,40000.0,60000.0,60000.0,60000.0,30000.0,20000.0,20000.0,30000.0,30000.0,40000.0,40000.0,40000.0,40000.0,40000.0,40000.0,40000.0,40000.0,40000.0,40000.0,40000.0,60000.0,20000.0,30000.0,40000.0,40000.0,40000.0,20000.0,10000.0,40000.0,30000.0,30000.0,10000.0,40000.0,40000.0,20000.0,30000.0,20000.0,20000.0,30000.0,10000.0,40000.0,30000.0,30000.0,40000.0,30000.0,40000.0,30000.0,30000.0,30000.0,30000.0,20000.0,30000.0,20000.0,10000.0,30000.0,30000.0,40000.0,50000.0,50000.0,50000.0,50000.0,50000.0,40000.0,60000.0,60000.0,60000.0,70000.0,70000.0,50000.0,50000.0,50000.0,40000.0,40000.0,60000.0,60000.0,60000.0,70000.0,70000.0,70000.0,60000.0,70000.0,70000.0,70000.0,70000.0,70000.0,60000.0,60000.0,60000.0,70000.0,70000.0,70000.0,80000.0,60000.0,40000.0,50000.0,50000.0,60000.0,60000.0,60000.0,60000.0,60000.0,60000.0,40000.0,70000.0,70000.0,70000.0,60000.0,40000.0,40000.0,60000.0,60000.0,60000.0,60000.0,60000.0,70000.0,80000.0,60000.0,60000.0,70000.0,60000.0,80000.0,80000.0,80000.0,90000.0,60000.0,110000.0,70000.0,80000.0,90000.0,90000.0,50000.0,50000.0,50000.0,40000.0,60000.0,60000.0,60000.0,60000.0,60000.0,70000.0,50000.0,40000.0,40000.0,40000.0,40000.0,60000.0,60000.0,60000.0,60000.0,70000.0,40000.0,40000.0,70000.0,70000.0,60000.0,60000.0,70000.0,70000.0,70000.0,70000.0,60000.0,70000.0,70000.0,80000.0,40000.0,80000.0,50000.0,50000.0,30000.0,50000.0,50000.0,50000.0,50000.0,60000.0,60000.0,60000.0,70000.0,70000.0,40000.0,60000.0,60000.0,60000.0,70000.0,70000.0,70000.0,60000.0,60000.0,60000.0,60000.0,60000.0,70000.0,80000.0,60000.0,70000.0,70000.0,100000.0,80000.0,80000.0,60000.0,110000.0,110000.0,80000.0,80000.0,80000.0,80000.0,80000.0,60000.0,60000.0,70000.0,60000.0,60000.0,60000.0,40000.0,40000.0,60000.0,30000.0,20000.0,70000.0,30000.0,20000.0,30000.0,30000.0,30000.0,30000.0,70000.0,70000.0,40000.0,40000.0,40000.0,60000.0,70000.0,70000.0,70000.0,60000.0,70000.0,80000.0,130000.0,80000.0,80000.0,60000.0,60000.0,60000.0,120000.0,130000.0,60000.0,60000.0,60000.0,70000.0,80000.0,90000.0,70000.0,70000.0,70000.0,60000.0,60000.0,110000.0,60000.0,60000.0,60000.0],\"yaxis\":\"y\",\"type\":\"scatter\"}],                        {\"template\":{\"data\":{\"histogram2dcontour\":[{\"type\":\"histogram2dcontour\",\"colorbar\":{\"outlinewidth\":0,\"ticks\":\"\"},\"colorscale\":[[0.0,\"#0d0887\"],[0.1111111111111111,\"#46039f\"],[0.2222222222222222,\"#7201a8\"],[0.3333333333333333,\"#9c179e\"],[0.4444444444444444,\"#bd3786\"],[0.5555555555555556,\"#d8576b\"],[0.6666666666666666,\"#ed7953\"],[0.7777777777777778,\"#fb9f3a\"],[0.8888888888888888,\"#fdca26\"],[1.0,\"#f0f921\"]]}],\"choropleth\":[{\"type\":\"choropleth\",\"colorbar\":{\"outlinewidth\":0,\"ticks\":\"\"}}],\"histogram2d\":[{\"type\":\"histogram2d\",\"colorbar\":{\"outlinewidth\":0,\"ticks\":\"\"},\"colorscale\":[[0.0,\"#0d0887\"],[0.1111111111111111,\"#46039f\"],[0.2222222222222222,\"#7201a8\"],[0.3333333333333333,\"#9c179e\"],[0.4444444444444444,\"#bd3786\"],[0.5555555555555556,\"#d8576b\"],[0.6666666666666666,\"#ed7953\"],[0.7777777777777778,\"#fb9f3a\"],[0.8888888888888888,\"#fdca26\"],[1.0,\"#f0f921\"]]}],\"heatmap\":[{\"type\":\"heatmap\",\"colorbar\":{\"outlinewidth\":0,\"ticks\":\"\"},\"colorscale\":[[0.0,\"#0d0887\"],[0.1111111111111111,\"#46039f\"],[0.2222222222222222,\"#7201a8\"],[0.3333333333333333,\"#9c179e\"],[0.4444444444444444,\"#bd3786\"],[0.5555555555555556,\"#d8576b\"],[0.6666666666666666,\"#ed7953\"],[0.7777777777777778,\"#fb9f3a\"],[0.8888888888888888,\"#fdca26\"],[1.0,\"#f0f921\"]]}],\"heatmapgl\":[{\"type\":\"heatmapgl\",\"colorbar\":{\"outlinewidth\":0,\"ticks\":\"\"},\"colorscale\":[[0.0,\"#0d0887\"],[0.1111111111111111,\"#46039f\"],[0.2222222222222222,\"#7201a8\"],[0.3333333333333333,\"#9c179e\"],[0.4444444444444444,\"#bd3786\"],[0.5555555555555556,\"#d8576b\"],[0.6666666666666666,\"#ed7953\"],[0.7777777777777778,\"#fb9f3a\"],[0.8888888888888888,\"#fdca26\"],[1.0,\"#f0f921\"]]}],\"contourcarpet\":[{\"type\":\"contourcarpet\",\"colorbar\":{\"outlinewidth\":0,\"ticks\":\"\"}}],\"contour\":[{\"type\":\"contour\",\"colorbar\":{\"outlinewidth\":0,\"ticks\":\"\"},\"colorscale\":[[0.0,\"#0d0887\"],[0.1111111111111111,\"#46039f\"],[0.2222222222222222,\"#7201a8\"],[0.3333333333333333,\"#9c179e\"],[0.4444444444444444,\"#bd3786\"],[0.5555555555555556,\"#d8576b\"],[0.6666666666666666,\"#ed7953\"],[0.7777777777777778,\"#fb9f3a\"],[0.8888888888888888,\"#fdca26\"],[1.0,\"#f0f921\"]]}],\"surface\":[{\"type\":\"surface\",\"colorbar\":{\"outlinewidth\":0,\"ticks\":\"\"},\"colorscale\":[[0.0,\"#0d0887\"],[0.1111111111111111,\"#46039f\"],[0.2222222222222222,\"#7201a8\"],[0.3333333333333333,\"#9c179e\"],[0.4444444444444444,\"#bd3786\"],[0.5555555555555556,\"#d8576b\"],[0.6666666666666666,\"#ed7953\"],[0.7777777777777778,\"#fb9f3a\"],[0.8888888888888888,\"#fdca26\"],[1.0,\"#f0f921\"]]}],\"mesh3d\":[{\"type\":\"mesh3d\",\"colorbar\":{\"outlinewidth\":0,\"ticks\":\"\"}}],\"scatter\":[{\"fillpattern\":{\"fillmode\":\"overlay\",\"size\":10,\"solidity\":0.2},\"type\":\"scatter\"}],\"parcoords\":[{\"type\":\"parcoords\",\"line\":{\"colorbar\":{\"outlinewidth\":0,\"ticks\":\"\"}}}],\"scatterpolargl\":[{\"type\":\"scatterpolargl\",\"marker\":{\"colorbar\":{\"outlinewidth\":0,\"ticks\":\"\"}}}],\"bar\":[{\"error_x\":{\"color\":\"#2a3f5f\"},\"error_y\":{\"color\":\"#2a3f5f\"},\"marker\":{\"line\":{\"color\":\"#E5ECF6\",\"width\":0.5},\"pattern\":{\"fillmode\":\"overlay\",\"size\":10,\"solidity\":0.2}},\"type\":\"bar\"}],\"scattergeo\":[{\"type\":\"scattergeo\",\"marker\":{\"colorbar\":{\"outlinewidth\":0,\"ticks\":\"\"}}}],\"scatterpolar\":[{\"type\":\"scatterpolar\",\"marker\":{\"colorbar\":{\"outlinewidth\":0,\"ticks\":\"\"}}}],\"histogram\":[{\"marker\":{\"pattern\":{\"fillmode\":\"overlay\",\"size\":10,\"solidity\":0.2}},\"type\":\"histogram\"}],\"scattergl\":[{\"type\":\"scattergl\",\"marker\":{\"colorbar\":{\"outlinewidth\":0,\"ticks\":\"\"}}}],\"scatter3d\":[{\"type\":\"scatter3d\",\"line\":{\"colorbar\":{\"outlinewidth\":0,\"ticks\":\"\"}},\"marker\":{\"colorbar\":{\"outlinewidth\":0,\"ticks\":\"\"}}}],\"scattermapbox\":[{\"type\":\"scattermapbox\",\"marker\":{\"colorbar\":{\"outlinewidth\":0,\"ticks\":\"\"}}}],\"scatterternary\":[{\"type\":\"scatterternary\",\"marker\":{\"colorbar\":{\"outlinewidth\":0,\"ticks\":\"\"}}}],\"scattercarpet\":[{\"type\":\"scattercarpet\",\"marker\":{\"colorbar\":{\"outlinewidth\":0,\"ticks\":\"\"}}}],\"carpet\":[{\"aaxis\":{\"endlinecolor\":\"#2a3f5f\",\"gridcolor\":\"white\",\"linecolor\":\"white\",\"minorgridcolor\":\"white\",\"startlinecolor\":\"#2a3f5f\"},\"baxis\":{\"endlinecolor\":\"#2a3f5f\",\"gridcolor\":\"white\",\"linecolor\":\"white\",\"minorgridcolor\":\"white\",\"startlinecolor\":\"#2a3f5f\"},\"type\":\"carpet\"}],\"table\":[{\"cells\":{\"fill\":{\"color\":\"#EBF0F8\"},\"line\":{\"color\":\"white\"}},\"header\":{\"fill\":{\"color\":\"#C8D4E3\"},\"line\":{\"color\":\"white\"}},\"type\":\"table\"}],\"barpolar\":[{\"marker\":{\"line\":{\"color\":\"#E5ECF6\",\"width\":0.5},\"pattern\":{\"fillmode\":\"overlay\",\"size\":10,\"solidity\":0.2}},\"type\":\"barpolar\"}],\"pie\":[{\"automargin\":true,\"type\":\"pie\"}]},\"layout\":{\"autotypenumbers\":\"strict\",\"colorway\":[\"#636efa\",\"#EF553B\",\"#00cc96\",\"#ab63fa\",\"#FFA15A\",\"#19d3f3\",\"#FF6692\",\"#B6E880\",\"#FF97FF\",\"#FECB52\"],\"font\":{\"color\":\"#2a3f5f\"},\"hovermode\":\"closest\",\"hoverlabel\":{\"align\":\"left\"},\"paper_bgcolor\":\"white\",\"plot_bgcolor\":\"#E5ECF6\",\"polar\":{\"bgcolor\":\"#E5ECF6\",\"angularaxis\":{\"gridcolor\":\"white\",\"linecolor\":\"white\",\"ticks\":\"\"},\"radialaxis\":{\"gridcolor\":\"white\",\"linecolor\":\"white\",\"ticks\":\"\"}},\"ternary\":{\"bgcolor\":\"#E5ECF6\",\"aaxis\":{\"gridcolor\":\"white\",\"linecolor\":\"white\",\"ticks\":\"\"},\"baxis\":{\"gridcolor\":\"white\",\"linecolor\":\"white\",\"ticks\":\"\"},\"caxis\":{\"gridcolor\":\"white\",\"linecolor\":\"white\",\"ticks\":\"\"}},\"coloraxis\":{\"colorbar\":{\"outlinewidth\":0,\"ticks\":\"\"}},\"colorscale\":{\"sequential\":[[0.0,\"#0d0887\"],[0.1111111111111111,\"#46039f\"],[0.2222222222222222,\"#7201a8\"],[0.3333333333333333,\"#9c179e\"],[0.4444444444444444,\"#bd3786\"],[0.5555555555555556,\"#d8576b\"],[0.6666666666666666,\"#ed7953\"],[0.7777777777777778,\"#fb9f3a\"],[0.8888888888888888,\"#fdca26\"],[1.0,\"#f0f921\"]],\"sequentialminus\":[[0.0,\"#0d0887\"],[0.1111111111111111,\"#46039f\"],[0.2222222222222222,\"#7201a8\"],[0.3333333333333333,\"#9c179e\"],[0.4444444444444444,\"#bd3786\"],[0.5555555555555556,\"#d8576b\"],[0.6666666666666666,\"#ed7953\"],[0.7777777777777778,\"#fb9f3a\"],[0.8888888888888888,\"#fdca26\"],[1.0,\"#f0f921\"]],\"diverging\":[[0,\"#8e0152\"],[0.1,\"#c51b7d\"],[0.2,\"#de77ae\"],[0.3,\"#f1b6da\"],[0.4,\"#fde0ef\"],[0.5,\"#f7f7f7\"],[0.6,\"#e6f5d0\"],[0.7,\"#b8e186\"],[0.8,\"#7fbc41\"],[0.9,\"#4d9221\"],[1,\"#276419\"]]},\"xaxis\":{\"gridcolor\":\"white\",\"linecolor\":\"white\",\"ticks\":\"\",\"title\":{\"standoff\":15},\"zerolinecolor\":\"white\",\"automargin\":true,\"zerolinewidth\":2},\"yaxis\":{\"gridcolor\":\"white\",\"linecolor\":\"white\",\"ticks\":\"\",\"title\":{\"standoff\":15},\"zerolinecolor\":\"white\",\"automargin\":true,\"zerolinewidth\":2},\"scene\":{\"xaxis\":{\"backgroundcolor\":\"#E5ECF6\",\"gridcolor\":\"white\",\"linecolor\":\"white\",\"showbackground\":true,\"ticks\":\"\",\"zerolinecolor\":\"white\",\"gridwidth\":2},\"yaxis\":{\"backgroundcolor\":\"#E5ECF6\",\"gridcolor\":\"white\",\"linecolor\":\"white\",\"showbackground\":true,\"ticks\":\"\",\"zerolinecolor\":\"white\",\"gridwidth\":2},\"zaxis\":{\"backgroundcolor\":\"#E5ECF6\",\"gridcolor\":\"white\",\"linecolor\":\"white\",\"showbackground\":true,\"ticks\":\"\",\"zerolinecolor\":\"white\",\"gridwidth\":2}},\"shapedefaults\":{\"line\":{\"color\":\"#2a3f5f\"}},\"annotationdefaults\":{\"arrowcolor\":\"#2a3f5f\",\"arrowhead\":0,\"arrowwidth\":1},\"geo\":{\"bgcolor\":\"white\",\"landcolor\":\"#E5ECF6\",\"subunitcolor\":\"white\",\"showland\":true,\"showlakes\":true,\"lakecolor\":\"white\"},\"title\":{\"x\":0.05},\"mapbox\":{\"style\":\"light\"}}},\"xaxis\":{\"anchor\":\"y\",\"domain\":[0.0,1.0],\"title\":{\"text\":\"Age\"}},\"yaxis\":{\"anchor\":\"x\",\"domain\":[0.0,1.0],\"title\":{\"text\":\"YearlyIncome\"}},\"legend\":{\"title\":{\"text\":\"Gender\"},\"tracegroupgap\":0},\"margin\":{\"t\":60}},                        {\"responsive\": true}                    ).then(function(){\n",
       "                            \n",
       "var gd = document.getElementById('0049a378-494c-41cd-9f9a-7547788d2903');\n",
       "var x = new MutationObserver(function (mutations, observer) {{\n",
       "        var display = window.getComputedStyle(gd).display;\n",
       "        if (!display || display === 'none') {{\n",
       "            console.log([gd, 'removed!']);\n",
       "            Plotly.purge(gd);\n",
       "            observer.disconnect();\n",
       "        }}\n",
       "}});\n",
       "\n",
       "// Listen for the removal of the full notebook cells\n",
       "var notebookContainer = gd.closest('#notebook-container');\n",
       "if (notebookContainer) {{\n",
       "    x.observe(notebookContainer, {childList: true});\n",
       "}}\n",
       "\n",
       "// Listen for the clearing of the current output cell\n",
       "var outputEl = gd.closest('.output');\n",
       "if (outputEl) {{\n",
       "    x.observe(outputEl, {childList: true});\n",
       "}}\n",
       "\n",
       "                        })                };                });            </script>        </div>"
      ]
     },
     "metadata": {},
     "output_type": "display_data"
    }
   ],
   "source": [
    "fig = px.scatter(\n",
    "        scatterplot_df[['FirstName', 'BirthDate', 'Gender', 'Age', 'YearlyIncome']], \n",
    "        x='Age', \n",
    "        y='YearlyIncome',\n",
    "        hover_name='FirstName', \n",
    "        color = 'Gender',\n",
    "        color_continuous_scale='redor'\n",
    "    )\n",
    "\n",
    "fig.show()"
   ]
  },
  {
   "cell_type": "markdown",
   "id": "ffcd02d1",
   "metadata": {},
   "source": [
    "# Conclusion"
   ]
  },
  {
   "cell_type": "markdown",
   "id": "38674e9e",
   "metadata": {},
   "source": [
    "Based on the dataset we can conclude the following:<br>\n",
    "•\tThere are slightly more female customers than male customers (52% vs 48%)<br>\n",
    "•\tThe max yearly income salary is equal for both genders<br>\n",
    "•\tAlthough the max yearly income occurs more often among the male customers, the average income is more or less equal (even\n",
    "    slightly higher for females).<br> \n",
    "    &nbsp;&nbsp;The mode yearly income for both genders is 60k.<br>\n",
    "•\tBased on the scatterplot there does not seem to be a significant correlation between yearly income and age.\n"
   ]
  },
  {
   "cell_type": "code",
   "execution_count": null,
   "id": "d6245862",
   "metadata": {},
   "outputs": [],
   "source": []
  }
 ],
 "metadata": {
  "kernelspec": {
   "display_name": "Python 3 (ipykernel)",
   "language": "python",
   "name": "python3"
  },
  "language_info": {
   "codemirror_mode": {
    "name": "ipython",
    "version": 3
   },
   "file_extension": ".py",
   "mimetype": "text/x-python",
   "name": "python",
   "nbconvert_exporter": "python",
   "pygments_lexer": "ipython3",
   "version": "3.9.13"
  }
 },
 "nbformat": 4,
 "nbformat_minor": 5
}
