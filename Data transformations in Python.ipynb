{
 "cells": [
  {
   "cell_type": "code",
   "execution_count": 5,
   "id": "aa23ef10",
   "metadata": {},
   "outputs": [],
   "source": [
    "import pyodbc\n",
    "import pandas as pd\n",
    "import numpy as np\n",
    "\n",
    "import plotly.express as px\n",
    "\n",
    "from datetime import datetime"
   ]
  },
  {
   "cell_type": "code",
   "execution_count": 6,
   "id": "a2555077",
   "metadata": {},
   "outputs": [],
   "source": [
    "pd.set_option('display.max_rows', 500)\n",
    "pd.set_option('display.max_columns', 500)\n",
    "pd.set_option('display.width', 1000)\n",
    "pd.options.display.float_format = '{:.2f}'.format"
   ]
  },
  {
   "cell_type": "markdown",
   "id": "58cafd5f",
   "metadata": {},
   "source": [
    "# Load data"
   ]
  },
  {
   "cell_type": "code",
   "execution_count": 7,
   "id": "e47c3f2e",
   "metadata": {},
   "outputs": [],
   "source": [
    "def get_df(query):\n",
    "    server = 'OmerSteven\\SQLEXPRESS'\n",
    "    database = 'AdventureWorksDW2019'\n",
    "    conn = pyodbc.connect('Driver={SQL Server};'\n",
    "                      f'Server={server};'\n",
    "                      f'Database={database};'\n",
    "                      'Trusted_Connection=yes;')\n",
    "    df = pd.read_sql(query,conn)\n",
    "    \n",
    "    # Close the connection\n",
    "    conn.close()\n",
    "    return df"
   ]
  },
  {
   "cell_type": "code",
   "execution_count": 8,
   "id": "208885a7",
   "metadata": {},
   "outputs": [
    {
     "name": "stderr",
     "output_type": "stream",
     "text": [
      "C:\\ProgramData\\Anaconda3\\lib\\site-packages\\pandas\\io\\sql.py:762: UserWarning: pandas only support SQLAlchemy connectable(engine/connection) ordatabase string URI or sqlite3 DBAPI2 connectionother DBAPI2 objects are not tested, please consider using SQLAlchemy\n",
      "  warnings.warn(\n"
     ]
    }
   ],
   "source": [
    "query = \"\"\"\n",
    "            SELECT * \n",
    "            FROM AdventureWorksDW2019.dbo.DimCustomer\n",
    "            \"\"\"\n",
    "\n",
    "# Output of query to df\n",
    "analysis_tabel = get_df(query)"
   ]
  },
  {
   "cell_type": "markdown",
   "id": "2f006949",
   "metadata": {},
   "source": [
    "# Analysis"
   ]
  },
  {
   "cell_type": "markdown",
   "id": "ac9395b9",
   "metadata": {},
   "source": [
    "In this analysis we will have a look at the customer data of the AdventureWorks dataset. We are particularly interested in the yearly income distribution and how this relates to gender and age."
   ]
  },
  {
   "cell_type": "markdown",
   "id": "d50697eb",
   "metadata": {},
   "source": [
    "## Descriptive statistics"
   ]
  },
  {
   "cell_type": "code",
   "execution_count": null,
   "id": "e497a1fd",
   "metadata": {},
   "outputs": [],
   "source": [
    "descriptives_table = analysis_tabel\\\n",
    "    .groupby(['Gender'])\\\n",
    "    .agg({\n",
    "        'CustomerKey' : 'count',\n",
    "        'YearlyIncome' : ['mean', lambda x: x.mode(), 'max', 'min']\n",
    "    })\\\n",
    "    .reset_index()\n",
    "\n",
    "# list comprehension for columns\n",
    "descriptives_table.columns = ['_'.join(col).replace('<lambda_0>', 'mode') for col in descriptives_table.columns]\n",
    "\n",
    "descriptives_table"
   ]
  },
  {
   "cell_type": "code",
   "execution_count": null,
   "id": "e72455bd",
   "metadata": {},
   "outputs": [],
   "source": [
    "# create table for value counts per gender\n",
    "pie_chart_df = analysis_tabel.YearlyIncome\\\n",
    "                .value_counts()\\\n",
    "                .reset_index()\\\n",
    "                .rename(columns = {'index' : \"yearly income\",\n",
    "                                   'YearlyIncome' : 'count'\n",
    "                                  })\n",
    "\n",
    "# pie chart\n",
    "fig = px.pie(pie_chart_df, values='count', names='yearly income',\n",
    "             title='Yearly income distribution', color_discrete_sequence=px.colors.sequential.RdBu\n",
    "            )\n",
    "\n",
    "fig.show()"
   ]
  },
  {
   "cell_type": "code",
   "execution_count": null,
   "id": "a8f25dba",
   "metadata": {},
   "outputs": [],
   "source": [
    "Distriubtion_yearly_income_gender = analysis_tabel\\\n",
    "    .groupby(['YearlyIncome','Gender'])\\\n",
    "    .agg({\n",
    "        'CustomerKey' : 'count'}\n",
    "    )\\\n",
    "    .unstack('Gender')\n",
    "\n",
    "Distriubtion_yearly_income_gender"
   ]
  },
  {
   "cell_type": "markdown",
   "id": "d0a54267",
   "metadata": {},
   "source": [
    "## Yearly income per customer gender and age"
   ]
  },
  {
   "cell_type": "code",
   "execution_count": null,
   "id": "0767a908",
   "metadata": {},
   "outputs": [],
   "source": [
    "scatterplot_df = analysis_tabel\\\n",
    "    [['FirstName', 'BirthDate', 'Gender', 'YearlyIncome']]\\\n",
    "    .assign(\n",
    "        today = lambda df: pd.to_datetime(datetime.today(), format='%Y/%m/%d'),\n",
    "    )\n",
    "\n",
    "# Convert the date columns to datetime\n",
    "scatterplot_df['BirthDate'] = pd.to_datetime(scatterplot_df['BirthDate'])\n",
    "\n",
    "# Define a lambda function to calculate the number of years in the date delta\n",
    "Age = lambda df: divmod((df['today'] - df['BirthDate']).total_seconds(), 31536000)[0]\n",
    "\n",
    "# Apply the lambda function to create a new column\n",
    "scatterplot_df['Age'] = scatterplot_df.apply(Age, axis=1)"
   ]
  },
  {
   "cell_type": "code",
   "execution_count": null,
   "id": "83ba7f0e",
   "metadata": {},
   "outputs": [],
   "source": [
    "fig = px.scatter(\n",
    "        scatterplot_df[['FirstName', 'BirthDate', 'Gender', 'Age', 'YearlyIncome']], \n",
    "        x='Age', \n",
    "        y='YearlyIncome',\n",
    "        hover_name='FirstName', \n",
    "        color = 'Gender',\n",
    "        color_continuous_scale='redor'\n",
    "    )\n",
    "\n",
    "fig.show()"
   ]
  },
  {
   "cell_type": "markdown",
   "id": "ffcd02d1",
   "metadata": {},
   "source": [
    "# Conclusion"
   ]
  },
  {
   "cell_type": "markdown",
   "id": "38674e9e",
   "metadata": {},
   "source": [
    "Based on the dataset we can conclude the following:\n",
    "•\tThere are slightly more female customers than male customers (52% vs 48%)<br>\n",
    "•\tThe max yearly income salary is equal for both genders<br>\n",
    "•\tAlthough the max yearly income occurs more often among the male customers, the average income is more or less equal (even\n",
    "    slightly higher for females).<br> \n",
    "    &nbsp;&nbsp;The mode yearly income for both genders is 60k.<br>\n",
    "•\tBased on the scatterplot there does not seem to be a significant correlation between yearly income and age.\n"
   ]
  },
  {
   "cell_type": "code",
   "execution_count": null,
   "id": "d6245862",
   "metadata": {},
   "outputs": [],
   "source": []
  }
 ],
 "metadata": {
  "kernelspec": {
   "display_name": "Python 3 (ipykernel)",
   "language": "python",
   "name": "python3"
  },
  "language_info": {
   "codemirror_mode": {
    "name": "ipython",
    "version": 3
   },
   "file_extension": ".py",
   "mimetype": "text/x-python",
   "name": "python",
   "nbconvert_exporter": "python",
   "pygments_lexer": "ipython3",
   "version": "3.9.13"
  }
 },
 "nbformat": 4,
 "nbformat_minor": 5
}
